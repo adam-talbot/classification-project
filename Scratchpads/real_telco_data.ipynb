{
 "cells": [
  {
   "cell_type": "code",
   "execution_count": 5,
   "id": "9aa5a63e",
   "metadata": {},
   "outputs": [],
   "source": [
    "from math import sqrt\n",
    "from scipy import stats\n",
    "import matplotlib.pyplot as plt\n",
    "import numpy as np\n",
    "import pandas as pd\n",
    "import seaborn as sns\n",
    "from sklearn.model_selection import train_test_split\n",
    "from sklearn.impute import SimpleImputer\n",
    "import env\n",
    "import os"
   ]
  },
  {
   "cell_type": "code",
   "execution_count": 6,
   "id": "807e3e36",
   "metadata": {},
   "outputs": [],
   "source": [
    "def get_connection(db, user=env.user, host=env.host, password=env.password):\n",
    "    return f'mysql+pymysql://{user}:{password}@{host}/{db}'"
   ]
  },
  {
   "cell_type": "code",
   "execution_count": 7,
   "id": "2212deef",
   "metadata": {},
   "outputs": [],
   "source": [
    "def get_telco_data():\n",
    "    filename = \"telco_churn.csv\"\n",
    "\n",
    "    if os.path.isfile(\"telco_churn.csv\"):\n",
    "        return pd.read_csv(\"telco_churn.csv\")\n",
    "    else:\n",
    "        # read the SQL query into a dataframe\n",
    "        df = pd.read_sql('''\n",
    "SELECT *\n",
    "FROM customers\n",
    "JOIN contract_types ON contract_types.contract_type_id = customers.contract_type_id\n",
    "JOIN internet_service_types ON internet_service_types.internet_service_type_id = customers.internet_service_type_id\n",
    "JOIN payment_types ON payment_types.payment_type_id = customers.payment_type_id;\n",
    "''', get_connection(\"telco_churn\"))\n",
    "\n",
    "        # Write that dataframe to disk for later. Called \"caching\" the data for later.\n",
    "        df.to_csv(\"telco_churn.csv\")\n",
    "\n",
    "        # Return the dataframe to the calling code\n",
    "        return df "
   ]
  },
  {
   "cell_type": "code",
   "execution_count": 14,
   "id": "362dac0c",
   "metadata": {},
   "outputs": [],
   "source": [
    "df = get_telco_data()"
   ]
  },
  {
   "cell_type": "code",
   "execution_count": 15,
   "id": "fc150557",
   "metadata": {},
   "outputs": [],
   "source": [
    "def clean_telco(df):\n",
    "    df[\"partner\"] = df.partner.replace(to_replace = [\"Yes\",\"No\"],value = [1,0])\n",
    "    df[\"dependents\"] = df.dependents.replace(to_replace = [\"Yes\",\"No\"],value = [1,0])\n",
    "    df[\"churn\"] = df.churn.replace(to_replace = [\"Yes\",\"No\"],value = [1,0])\n",
    "    df[\"paperless_billing\"] = df.paperless_billing.replace(to_replace = [\"Yes\",\"No\",\"No internet service\"],value = [1,0,0])\n",
    "    df[\"tech_support\"] = df.tech_support.replace(to_replace = [\"Yes\",\"No\",\"No internet service\"],value = [1,0,0])\n",
    "    df[\"device_protection\"] = df.device_protection.replace(to_replace = [\"Yes\",\"No\",\"No internet service\"],value = [1,0,0])\n",
    "    df[\"online_backup\"] = df.online_backup.replace(to_replace = [\"Yes\",\"No\",\"No internet service\"],value = [1,0,0])\n",
    "    df[\"online_security\"] = df.online_security.replace(to_replace = [\"Yes\",\"No\",\"No internet service\"],value = [1,0,0])\n",
    "    df[\"streaming_tv\"] = df.streaming_tv.replace(to_replace = [\"Yes\",\"No\",\"No internet service\"],value = [1,0,0])\n",
    "    df[\"streaming_movies\"] = df.streaming_movies.replace(to_replace = [\"Yes\",\"No\",\"No internet service\"],value = [1,0,0])\n",
    "    df[\"phone_service\"] = df.phone_service.replace(to_replace = [\"Yes\",\"No\",\"No internet service\"],value = [1,0,0])\n",
    "    df[\"multiple_lines\"] = df.multiple_lines.replace(to_replace = [\"Yes\",\"No\",\"No phone service\"],value = [1,0,0])\n",
    "    df.drop(columns = [\"gender\",\"customer_id\",\n",
    "                   \"multiple_lines\",\n",
    "                   \"contract_type\",\n",
    "                   \"internet_service_type\",\n",
    "                   \"payment_type\",\n",
    "                   \"total_charges\",\n",
    "                   'internet_service_type_id',\n",
    "                   \"contract_type_id\",\n",
    "                   \"payment_type_id\",\n",
    "                  \"contract_type_id.1\",\n",
    "                   \"internet_service_type_id.1\",\n",
    "                   \"payment_type_id.1\",\n",
    "                   \"Unnamed: 0\"],inplace = True)\n",
    "    df[\"total_charges_clean\"] = df.monthly_charges * df.tenure\n",
    "    return df\n",
    "    "
   ]
  },
  {
   "cell_type": "code",
   "execution_count": 16,
   "id": "70926cfb",
   "metadata": {},
   "outputs": [],
   "source": [
    "df = clean_telco(df)"
   ]
  },
  {
   "cell_type": "code",
   "execution_count": 18,
   "id": "72937183",
   "metadata": {},
   "outputs": [
    {
     "data": {
      "text/plain": [
       "7043"
      ]
     },
     "execution_count": 18,
     "metadata": {},
     "output_type": "execute_result"
    }
   ],
   "source": [
    "len(df)"
   ]
  },
  {
   "cell_type": "code",
   "execution_count": null,
   "id": "344504f9",
   "metadata": {},
   "outputs": [],
   "source": []
  }
 ],
 "metadata": {
  "kernelspec": {
   "display_name": "Python 3",
   "language": "python",
   "name": "python3"
  },
  "language_info": {
   "codemirror_mode": {
    "name": "ipython",
    "version": 3
   },
   "file_extension": ".py",
   "mimetype": "text/x-python",
   "name": "python",
   "nbconvert_exporter": "python",
   "pygments_lexer": "ipython3",
   "version": "3.8.8"
  }
 },
 "nbformat": 4,
 "nbformat_minor": 5
}
