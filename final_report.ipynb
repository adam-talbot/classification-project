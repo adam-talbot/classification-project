{
 "cells": [
  {
   "cell_type": "markdown",
   "id": "f5bd3a12-c8ad-4c31-8250-5d65c5e7704f",
   "metadata": {},
   "source": [
    "# Telco Churn Classification Project"
   ]
  },
  {
   "cell_type": "markdown",
   "id": "21825217-32f9-47dd-ab00-f80362b661d8",
   "metadata": {},
   "source": [
    "Adam Talbot - 8/31/21"
   ]
  },
  {
   "cell_type": "markdown",
   "id": "af0050c4-480e-43bf-8ca0-e4bded22fcff",
   "metadata": {},
   "source": [
    "---"
   ]
  },
  {
   "cell_type": "markdown",
   "id": "65fac258-677a-4954-80eb-52d8e0f36772",
   "metadata": {},
   "source": [
    "<img src=\"https://23x6xj3o92m9361dbu2ij362-wpengine.netdna-ssl.com/wp-content/uploads/2019/02/thumbnail-3ac78ae8dc4ab8e78d3937d8a6b35326-1200x370.jpeg\" alt=\"Iris\" title=\"Iris Dataset\" width=\"500\" height=\"200\" />"
   ]
  },
  {
   "cell_type": "markdown",
   "id": "e6fc5665-e329-4736-850e-e40cf185ec69",
   "metadata": {},
   "source": [
    "---"
   ]
  },
  {
   "cell_type": "markdown",
   "id": "8f1940de-ab7e-4137-9243-b0e900a9f36b",
   "metadata": {},
   "source": [
    "### Imports"
   ]
  },
  {
   "cell_type": "markdown",
   "id": "7d359d83-532d-4665-9140-7aacd8bbd5ae",
   "metadata": {},
   "source": [
    "---"
   ]
  },
  {
   "cell_type": "code",
   "execution_count": 1,
   "id": "e31755d5-d9ee-47de-b356-07339c3d0681",
   "metadata": {
    "scrolled": true,
    "tags": []
   },
   "outputs": [],
   "source": [
    "# ignore warnings\n",
    "import warnings\n",
    "warnings.filterwarnings(\"ignore\")\n",
    "\n",
    "# standard imports\n",
    "import pandas as pd\n",
    "import numpy as np\n",
    "import seaborn as sns\n",
    "import matplotlib.pyplot as plt\n",
    "\n",
    "# sklearn imports\n",
    "from sklearn.model_selection import train_test_split\n",
    "\n",
    "# models\n",
    "from sklearn.tree import DecisionTreeClassifier\n",
    "from sklearn.ensemble import RandomForestClassifier\n",
    "from sklearn.neighbors import KNeighborsClassifier\n",
    "from sklearn.linear_model import LogisticRegression\n",
    "\n",
    "# Custom module imports\n",
    "import acquire as a\n",
    "import prepare as p\n",
    "import explore as e"
   ]
  },
  {
   "cell_type": "markdown",
   "id": "cce3d095-0f8f-40ef-9deb-30eae21b1a1f",
   "metadata": {},
   "source": [
    "---"
   ]
  },
  {
   "cell_type": "markdown",
   "id": "ec339200-ff2e-40c2-afb4-851bfc8540af",
   "metadata": {},
   "source": [
    "## Plan"
   ]
  },
  {
   "cell_type": "markdown",
   "id": "f496ab65-3bf8-446b-8eb8-34c309210d52",
   "metadata": {},
   "source": [
    "---"
   ]
  },
  {
   "cell_type": "markdown",
   "id": "afa6b606-f12c-4726-80de-12ff69687942",
   "metadata": {},
   "source": [
    "- [x] Create README.md with data dictionary, project and business goals, come up with initial hypotheses.\n",
    "- [x] Acquire data from the Codeup Database and create a function to automate this process. Save the function in an acquire.py file to import into the Final Report Notebook.\n",
    "- [x] Clean and prepare data for the first iteration through the pipeline, MVP preparation. Create a function to automate the process, store the function in a prepare.py module, and prepare data in Final Report Notebook by importing and using the funtion.\n",
    "- [x] Clearly define two hypotheses, set an alpha, run the statistical tests needed, reject or fail to reject the Null Hypothesis, and document findings and takeaways.\n",
    "- [x] Establish a baseline accuracy and document well.\n",
    "- [x] Train three different classification models.\n",
    "- [x] Evaluate models on train and validate datasets.\n",
    "- [x] Choose the model with that performs the best and evaluate that single model on the test dataset.\n",
    "- [x] Create csv file with the measurement id, the probability of the target values, and the model's prediction for each observation in my test dataset.\n",
    "- [x] Document conclusions, takeaways, and next steps in the Final Report Notebook.\n"
   ]
  },
  {
   "cell_type": "markdown",
   "id": "69b5e32d-fe46-4c29-97e7-b634f375fea2",
   "metadata": {},
   "source": [
    "---"
   ]
  },
  {
   "cell_type": "markdown",
   "id": "1e567b1f-e708-43dd-b2c3-b4b288762f9b",
   "metadata": {},
   "source": [
    "## Executive Summary"
   ]
  },
  {
   "cell_type": "markdown",
   "id": "642840aa-84e6-45a1-954f-621c4f1d99f0",
   "metadata": {},
   "source": [
    "---"
   ]
  },
  {
   "cell_type": "markdown",
   "id": "1778ca01-1ade-49e9-b2d1-e234ccf97106",
   "metadata": {},
   "source": [
    "**Project Objectives/Goals**\n",
    "- Find drivers for customer churn at Telco\n",
    "- Construct a ML classification model that accurately predicts customer churn\n",
    "- Document process well enough to be presented or read like a report\n",
    "**Conclusions:**\n",
    "- I found that my KNN Classification model best predicted churn when evaluated using accuracy and defining overfit as a >5% decrease in accuracy from train to validate evaluation.\n",
    "    - 78% out-of-sample accuracy\n",
    "- This model outperformed the baseline by 4.4%, so it has value.\n",
    "**Next Steps:**\n",
    "- Some initial exploration and statistical testing revealed that engineering some new features might help my models predict with even more accuracy, and with more time, I would like to test this hypothesis.\n",
    "- Scaling numeric columns would likely improve performance for the KNN model. I would implement this with more time.\n",
    "- Because of the imbalance of classes for the target variable, sampling methods might also improve model peformance. I would implement this with more time.\n",
    "- I would explore further hyperparameter tuning with more time."
   ]
  },
  {
   "cell_type": "markdown",
   "id": "1ea6afb1-c952-41b7-8a59-4bf32543ca8f",
   "metadata": {},
   "source": [
    "---"
   ]
  },
  {
   "cell_type": "markdown",
   "id": "8f409232-4bbd-4530-ad11-2b0238c063ae",
   "metadata": {},
   "source": [
    "## Acquire"
   ]
  },
  {
   "cell_type": "markdown",
   "id": "ae03b5f6-80d6-4fa8-ab04-d35c5d018f3a",
   "metadata": {},
   "source": [
    "---"
   ]
  },
  {
   "cell_type": "code",
   "execution_count": 2,
   "id": "5282a619-d429-4fd2-b767-7eba9af44959",
   "metadata": {},
   "outputs": [],
   "source": [
    "# read raw data info a dataframe (df)\n",
    "df = a.get_telco_data()"
   ]
  },
  {
   "cell_type": "code",
   "execution_count": 3,
   "id": "4e6b2b3e-2c5b-45d9-90a8-ca6cc3211f2c",
   "metadata": {},
   "outputs": [
    {
     "data": {
      "text/plain": [
       "(7043, 24)"
      ]
     },
     "execution_count": 3,
     "metadata": {},
     "output_type": "execute_result"
    }
   ],
   "source": [
    "# lets see how many rows and columns we have\n",
    "df.shape"
   ]
  },
  {
   "cell_type": "code",
   "execution_count": 4,
   "id": "f9f231cc-cd01-4791-842b-576e59f64495",
   "metadata": {},
   "outputs": [
    {
     "data": {
      "text/html": [
       "<div>\n",
       "<style scoped>\n",
       "    .dataframe tbody tr th:only-of-type {\n",
       "        vertical-align: middle;\n",
       "    }\n",
       "\n",
       "    .dataframe tbody tr th {\n",
       "        vertical-align: top;\n",
       "    }\n",
       "\n",
       "    .dataframe thead th {\n",
       "        text-align: right;\n",
       "    }\n",
       "</style>\n",
       "<table border=\"1\" class=\"dataframe\">\n",
       "  <thead>\n",
       "    <tr style=\"text-align: right;\">\n",
       "      <th></th>\n",
       "      <th>0</th>\n",
       "      <th>1</th>\n",
       "      <th>2</th>\n",
       "      <th>3</th>\n",
       "      <th>4</th>\n",
       "    </tr>\n",
       "  </thead>\n",
       "  <tbody>\n",
       "    <tr>\n",
       "      <th>payment_type_id</th>\n",
       "      <td>2</td>\n",
       "      <td>2</td>\n",
       "      <td>1</td>\n",
       "      <td>1</td>\n",
       "      <td>3</td>\n",
       "    </tr>\n",
       "    <tr>\n",
       "      <th>contract_type_id</th>\n",
       "      <td>1</td>\n",
       "      <td>1</td>\n",
       "      <td>1</td>\n",
       "      <td>1</td>\n",
       "      <td>1</td>\n",
       "    </tr>\n",
       "    <tr>\n",
       "      <th>internet_service_type_id</th>\n",
       "      <td>3</td>\n",
       "      <td>3</td>\n",
       "      <td>3</td>\n",
       "      <td>3</td>\n",
       "      <td>3</td>\n",
       "    </tr>\n",
       "    <tr>\n",
       "      <th>customer_id</th>\n",
       "      <td>0030-FNXPP</td>\n",
       "      <td>0031-PVLZI</td>\n",
       "      <td>0098-BOWSO</td>\n",
       "      <td>0107-WESLM</td>\n",
       "      <td>0114-RSRRW</td>\n",
       "    </tr>\n",
       "    <tr>\n",
       "      <th>gender</th>\n",
       "      <td>Female</td>\n",
       "      <td>Female</td>\n",
       "      <td>Male</td>\n",
       "      <td>Male</td>\n",
       "      <td>Female</td>\n",
       "    </tr>\n",
       "    <tr>\n",
       "      <th>senior_citizen</th>\n",
       "      <td>0</td>\n",
       "      <td>0</td>\n",
       "      <td>0</td>\n",
       "      <td>0</td>\n",
       "      <td>0</td>\n",
       "    </tr>\n",
       "    <tr>\n",
       "      <th>partner</th>\n",
       "      <td>No</td>\n",
       "      <td>Yes</td>\n",
       "      <td>No</td>\n",
       "      <td>No</td>\n",
       "      <td>Yes</td>\n",
       "    </tr>\n",
       "    <tr>\n",
       "      <th>dependents</th>\n",
       "      <td>No</td>\n",
       "      <td>Yes</td>\n",
       "      <td>No</td>\n",
       "      <td>No</td>\n",
       "      <td>No</td>\n",
       "    </tr>\n",
       "    <tr>\n",
       "      <th>tenure</th>\n",
       "      <td>3</td>\n",
       "      <td>4</td>\n",
       "      <td>27</td>\n",
       "      <td>1</td>\n",
       "      <td>10</td>\n",
       "    </tr>\n",
       "    <tr>\n",
       "      <th>phone_service</th>\n",
       "      <td>Yes</td>\n",
       "      <td>Yes</td>\n",
       "      <td>Yes</td>\n",
       "      <td>Yes</td>\n",
       "      <td>Yes</td>\n",
       "    </tr>\n",
       "    <tr>\n",
       "      <th>multiple_lines</th>\n",
       "      <td>No</td>\n",
       "      <td>No</td>\n",
       "      <td>No</td>\n",
       "      <td>No</td>\n",
       "      <td>No</td>\n",
       "    </tr>\n",
       "    <tr>\n",
       "      <th>online_security</th>\n",
       "      <td>No internet service</td>\n",
       "      <td>No internet service</td>\n",
       "      <td>No internet service</td>\n",
       "      <td>No internet service</td>\n",
       "      <td>No internet service</td>\n",
       "    </tr>\n",
       "    <tr>\n",
       "      <th>online_backup</th>\n",
       "      <td>No internet service</td>\n",
       "      <td>No internet service</td>\n",
       "      <td>No internet service</td>\n",
       "      <td>No internet service</td>\n",
       "      <td>No internet service</td>\n",
       "    </tr>\n",
       "    <tr>\n",
       "      <th>device_protection</th>\n",
       "      <td>No internet service</td>\n",
       "      <td>No internet service</td>\n",
       "      <td>No internet service</td>\n",
       "      <td>No internet service</td>\n",
       "      <td>No internet service</td>\n",
       "    </tr>\n",
       "    <tr>\n",
       "      <th>tech_support</th>\n",
       "      <td>No internet service</td>\n",
       "      <td>No internet service</td>\n",
       "      <td>No internet service</td>\n",
       "      <td>No internet service</td>\n",
       "      <td>No internet service</td>\n",
       "    </tr>\n",
       "    <tr>\n",
       "      <th>streaming_tv</th>\n",
       "      <td>No internet service</td>\n",
       "      <td>No internet service</td>\n",
       "      <td>No internet service</td>\n",
       "      <td>No internet service</td>\n",
       "      <td>No internet service</td>\n",
       "    </tr>\n",
       "    <tr>\n",
       "      <th>streaming_movies</th>\n",
       "      <td>No internet service</td>\n",
       "      <td>No internet service</td>\n",
       "      <td>No internet service</td>\n",
       "      <td>No internet service</td>\n",
       "      <td>No internet service</td>\n",
       "    </tr>\n",
       "    <tr>\n",
       "      <th>paperless_billing</th>\n",
       "      <td>No</td>\n",
       "      <td>No</td>\n",
       "      <td>Yes</td>\n",
       "      <td>Yes</td>\n",
       "      <td>Yes</td>\n",
       "    </tr>\n",
       "    <tr>\n",
       "      <th>monthly_charges</th>\n",
       "      <td>19.85</td>\n",
       "      <td>20.35</td>\n",
       "      <td>19.4</td>\n",
       "      <td>19.85</td>\n",
       "      <td>19.95</td>\n",
       "    </tr>\n",
       "    <tr>\n",
       "      <th>total_charges</th>\n",
       "      <td>57.2</td>\n",
       "      <td>76.35</td>\n",
       "      <td>529.8</td>\n",
       "      <td>19.85</td>\n",
       "      <td>187.75</td>\n",
       "    </tr>\n",
       "    <tr>\n",
       "      <th>churn</th>\n",
       "      <td>No</td>\n",
       "      <td>Yes</td>\n",
       "      <td>No</td>\n",
       "      <td>Yes</td>\n",
       "      <td>No</td>\n",
       "    </tr>\n",
       "    <tr>\n",
       "      <th>internet_service_type</th>\n",
       "      <td>None</td>\n",
       "      <td>None</td>\n",
       "      <td>None</td>\n",
       "      <td>None</td>\n",
       "      <td>None</td>\n",
       "    </tr>\n",
       "    <tr>\n",
       "      <th>contract_type</th>\n",
       "      <td>Month-to-month</td>\n",
       "      <td>Month-to-month</td>\n",
       "      <td>Month-to-month</td>\n",
       "      <td>Month-to-month</td>\n",
       "      <td>Month-to-month</td>\n",
       "    </tr>\n",
       "    <tr>\n",
       "      <th>payment_type</th>\n",
       "      <td>Mailed check</td>\n",
       "      <td>Mailed check</td>\n",
       "      <td>Electronic check</td>\n",
       "      <td>Electronic check</td>\n",
       "      <td>Bank transfer (automatic)</td>\n",
       "    </tr>\n",
       "  </tbody>\n",
       "</table>\n",
       "</div>"
      ],
      "text/plain": [
       "                                            0                    1  \\\n",
       "payment_type_id                             2                    2   \n",
       "contract_type_id                            1                    1   \n",
       "internet_service_type_id                    3                    3   \n",
       "customer_id                        0030-FNXPP           0031-PVLZI   \n",
       "gender                                 Female               Female   \n",
       "senior_citizen                              0                    0   \n",
       "partner                                    No                  Yes   \n",
       "dependents                                 No                  Yes   \n",
       "tenure                                      3                    4   \n",
       "phone_service                             Yes                  Yes   \n",
       "multiple_lines                             No                   No   \n",
       "online_security           No internet service  No internet service   \n",
       "online_backup             No internet service  No internet service   \n",
       "device_protection         No internet service  No internet service   \n",
       "tech_support              No internet service  No internet service   \n",
       "streaming_tv              No internet service  No internet service   \n",
       "streaming_movies          No internet service  No internet service   \n",
       "paperless_billing                          No                   No   \n",
       "monthly_charges                         19.85                20.35   \n",
       "total_charges                            57.2                76.35   \n",
       "churn                                      No                  Yes   \n",
       "internet_service_type                    None                 None   \n",
       "contract_type                  Month-to-month       Month-to-month   \n",
       "payment_type                     Mailed check         Mailed check   \n",
       "\n",
       "                                            2                    3  \\\n",
       "payment_type_id                             1                    1   \n",
       "contract_type_id                            1                    1   \n",
       "internet_service_type_id                    3                    3   \n",
       "customer_id                        0098-BOWSO           0107-WESLM   \n",
       "gender                                   Male                 Male   \n",
       "senior_citizen                              0                    0   \n",
       "partner                                    No                   No   \n",
       "dependents                                 No                   No   \n",
       "tenure                                     27                    1   \n",
       "phone_service                             Yes                  Yes   \n",
       "multiple_lines                             No                   No   \n",
       "online_security           No internet service  No internet service   \n",
       "online_backup             No internet service  No internet service   \n",
       "device_protection         No internet service  No internet service   \n",
       "tech_support              No internet service  No internet service   \n",
       "streaming_tv              No internet service  No internet service   \n",
       "streaming_movies          No internet service  No internet service   \n",
       "paperless_billing                         Yes                  Yes   \n",
       "monthly_charges                          19.4                19.85   \n",
       "total_charges                           529.8                19.85   \n",
       "churn                                      No                  Yes   \n",
       "internet_service_type                    None                 None   \n",
       "contract_type                  Month-to-month       Month-to-month   \n",
       "payment_type                 Electronic check     Electronic check   \n",
       "\n",
       "                                                  4  \n",
       "payment_type_id                                   3  \n",
       "contract_type_id                                  1  \n",
       "internet_service_type_id                          3  \n",
       "customer_id                              0114-RSRRW  \n",
       "gender                                       Female  \n",
       "senior_citizen                                    0  \n",
       "partner                                         Yes  \n",
       "dependents                                       No  \n",
       "tenure                                           10  \n",
       "phone_service                                   Yes  \n",
       "multiple_lines                                   No  \n",
       "online_security                 No internet service  \n",
       "online_backup                   No internet service  \n",
       "device_protection               No internet service  \n",
       "tech_support                    No internet service  \n",
       "streaming_tv                    No internet service  \n",
       "streaming_movies                No internet service  \n",
       "paperless_billing                               Yes  \n",
       "monthly_charges                               19.95  \n",
       "total_charges                                187.75  \n",
       "churn                                            No  \n",
       "internet_service_type                          None  \n",
       "contract_type                        Month-to-month  \n",
       "payment_type              Bank transfer (automatic)  "
      ]
     },
     "execution_count": 4,
     "metadata": {},
     "output_type": "execute_result"
    }
   ],
   "source": [
    "# let's take a look at first 5 rows transposed for readability\n",
    "df.head().T"
   ]
  },
  {
   "cell_type": "code",
   "execution_count": 5,
   "id": "8d09d53e-9fec-4c22-8119-1536da4fa5d6",
   "metadata": {},
   "outputs": [
    {
     "name": "stdout",
     "output_type": "stream",
     "text": [
      "<class 'pandas.core.frame.DataFrame'>\n",
      "Int64Index: 7043 entries, 0 to 7042\n",
      "Data columns (total 24 columns):\n",
      " #   Column                    Non-Null Count  Dtype  \n",
      "---  ------                    --------------  -----  \n",
      " 0   payment_type_id           7043 non-null   int64  \n",
      " 1   contract_type_id          7043 non-null   int64  \n",
      " 2   internet_service_type_id  7043 non-null   int64  \n",
      " 3   customer_id               7043 non-null   object \n",
      " 4   gender                    7043 non-null   object \n",
      " 5   senior_citizen            7043 non-null   int64  \n",
      " 6   partner                   7043 non-null   object \n",
      " 7   dependents                7043 non-null   object \n",
      " 8   tenure                    7043 non-null   int64  \n",
      " 9   phone_service             7043 non-null   object \n",
      " 10  multiple_lines            7043 non-null   object \n",
      " 11  online_security           7043 non-null   object \n",
      " 12  online_backup             7043 non-null   object \n",
      " 13  device_protection         7043 non-null   object \n",
      " 14  tech_support              7043 non-null   object \n",
      " 15  streaming_tv              7043 non-null   object \n",
      " 16  streaming_movies          7043 non-null   object \n",
      " 17  paperless_billing         7043 non-null   object \n",
      " 18  monthly_charges           7043 non-null   float64\n",
      " 19  total_charges             7043 non-null   object \n",
      " 20  churn                     7043 non-null   object \n",
      " 21  internet_service_type     7043 non-null   object \n",
      " 22  contract_type             7043 non-null   object \n",
      " 23  payment_type              7043 non-null   object \n",
      "dtypes: float64(1), int64(5), object(18)\n",
      "memory usage: 1.3+ MB\n"
     ]
    }
   ],
   "source": [
    "# let's get some more info on our raw data\n",
    "df.info()"
   ]
  },
  {
   "cell_type": "code",
   "execution_count": 6,
   "id": "b8edc5f7-8556-403e-834b-7bec57b208ba",
   "metadata": {},
   "outputs": [
    {
     "data": {
      "text/html": [
       "<div>\n",
       "<style scoped>\n",
       "    .dataframe tbody tr th:only-of-type {\n",
       "        vertical-align: middle;\n",
       "    }\n",
       "\n",
       "    .dataframe tbody tr th {\n",
       "        vertical-align: top;\n",
       "    }\n",
       "\n",
       "    .dataframe thead th {\n",
       "        text-align: right;\n",
       "    }\n",
       "</style>\n",
       "<table border=\"1\" class=\"dataframe\">\n",
       "  <thead>\n",
       "    <tr style=\"text-align: right;\">\n",
       "      <th></th>\n",
       "      <th>count</th>\n",
       "      <th>mean</th>\n",
       "      <th>std</th>\n",
       "      <th>min</th>\n",
       "      <th>25%</th>\n",
       "      <th>50%</th>\n",
       "      <th>75%</th>\n",
       "      <th>max</th>\n",
       "    </tr>\n",
       "  </thead>\n",
       "  <tbody>\n",
       "    <tr>\n",
       "      <th>payment_type_id</th>\n",
       "      <td>7043.0</td>\n",
       "      <td>2.315633</td>\n",
       "      <td>1.148907</td>\n",
       "      <td>1.00</td>\n",
       "      <td>1.0</td>\n",
       "      <td>2.00</td>\n",
       "      <td>3.00</td>\n",
       "      <td>4.00</td>\n",
       "    </tr>\n",
       "    <tr>\n",
       "      <th>contract_type_id</th>\n",
       "      <td>7043.0</td>\n",
       "      <td>1.690473</td>\n",
       "      <td>0.833755</td>\n",
       "      <td>1.00</td>\n",
       "      <td>1.0</td>\n",
       "      <td>1.00</td>\n",
       "      <td>2.00</td>\n",
       "      <td>3.00</td>\n",
       "    </tr>\n",
       "    <tr>\n",
       "      <th>internet_service_type_id</th>\n",
       "      <td>7043.0</td>\n",
       "      <td>1.872923</td>\n",
       "      <td>0.737796</td>\n",
       "      <td>1.00</td>\n",
       "      <td>1.0</td>\n",
       "      <td>2.00</td>\n",
       "      <td>2.00</td>\n",
       "      <td>3.00</td>\n",
       "    </tr>\n",
       "    <tr>\n",
       "      <th>senior_citizen</th>\n",
       "      <td>7043.0</td>\n",
       "      <td>0.162147</td>\n",
       "      <td>0.368612</td>\n",
       "      <td>0.00</td>\n",
       "      <td>0.0</td>\n",
       "      <td>0.00</td>\n",
       "      <td>0.00</td>\n",
       "      <td>1.00</td>\n",
       "    </tr>\n",
       "    <tr>\n",
       "      <th>tenure</th>\n",
       "      <td>7043.0</td>\n",
       "      <td>32.371149</td>\n",
       "      <td>24.559481</td>\n",
       "      <td>0.00</td>\n",
       "      <td>9.0</td>\n",
       "      <td>29.00</td>\n",
       "      <td>55.00</td>\n",
       "      <td>72.00</td>\n",
       "    </tr>\n",
       "    <tr>\n",
       "      <th>monthly_charges</th>\n",
       "      <td>7043.0</td>\n",
       "      <td>64.761692</td>\n",
       "      <td>30.090047</td>\n",
       "      <td>18.25</td>\n",
       "      <td>35.5</td>\n",
       "      <td>70.35</td>\n",
       "      <td>89.85</td>\n",
       "      <td>118.75</td>\n",
       "    </tr>\n",
       "  </tbody>\n",
       "</table>\n",
       "</div>"
      ],
      "text/plain": [
       "                           count       mean        std    min   25%    50%  \\\n",
       "payment_type_id           7043.0   2.315633   1.148907   1.00   1.0   2.00   \n",
       "contract_type_id          7043.0   1.690473   0.833755   1.00   1.0   1.00   \n",
       "internet_service_type_id  7043.0   1.872923   0.737796   1.00   1.0   2.00   \n",
       "senior_citizen            7043.0   0.162147   0.368612   0.00   0.0   0.00   \n",
       "tenure                    7043.0  32.371149  24.559481   0.00   9.0  29.00   \n",
       "monthly_charges           7043.0  64.761692  30.090047  18.25  35.5  70.35   \n",
       "\n",
       "                            75%     max  \n",
       "payment_type_id            3.00    4.00  \n",
       "contract_type_id           2.00    3.00  \n",
       "internet_service_type_id   2.00    3.00  \n",
       "senior_citizen             0.00    1.00  \n",
       "tenure                    55.00   72.00  \n",
       "monthly_charges           89.85  118.75  "
      ]
     },
     "execution_count": 6,
     "metadata": {},
     "output_type": "execute_result"
    }
   ],
   "source": [
    "# let's check out some summary statistics for our numerical columns in the raw data\n",
    "df.describe().T"
   ]
  },
  {
   "cell_type": "code",
   "execution_count": 7,
   "id": "b1086ea8-ab3c-4c70-ba73-826f1ba23b55",
   "metadata": {},
   "outputs": [
    {
     "data": {
      "text/plain": [
       "Fiber optic    3096\n",
       "DSL            2421\n",
       "None           1526\n",
       "Name: internet_service_type, dtype: int64"
      ]
     },
     "execution_count": 7,
     "metadata": {},
     "output_type": "execute_result"
    }
   ],
   "source": [
    "# several columns have 'No internet service' or 'No phone service' as a category, this seems redundant\n",
    "# let's make sure we have info on phone and internet service before removing redundant info\n",
    "df.internet_service_type.value_counts()"
   ]
  },
  {
   "cell_type": "code",
   "execution_count": 8,
   "id": "880bc698-5bab-4e20-b8e6-abd0685eafde",
   "metadata": {},
   "outputs": [
    {
     "data": {
      "text/plain": [
       "Yes    6361\n",
       "No      682\n",
       "Name: phone_service, dtype: int64"
      ]
     },
     "execution_count": 8,
     "metadata": {},
     "output_type": "execute_result"
    }
   ],
   "source": [
    "df.phone_service.value_counts()"
   ]
  },
  {
   "cell_type": "code",
   "execution_count": 9,
   "id": "2f82f567-8f3f-4c76-b8a6-7c9ee05d3e1b",
   "metadata": {},
   "outputs": [
    {
     "data": {
      "text/plain": [
       "No                     3498\n",
       "Yes                    2019\n",
       "No internet service    1526\n",
       "Name: online_security, dtype: int64"
      ]
     },
     "execution_count": 9,
     "metadata": {},
     "output_type": "execute_result"
    }
   ],
   "source": [
    "# let's take a look at an example of the redundancy for each service type\n",
    "df.online_security.value_counts()"
   ]
  },
  {
   "cell_type": "code",
   "execution_count": 10,
   "id": "f673a00e-3f61-4757-959a-27571a3b1824",
   "metadata": {},
   "outputs": [
    {
     "data": {
      "text/plain": [
       "No                  3390\n",
       "Yes                 2971\n",
       "No phone service     682\n",
       "Name: multiple_lines, dtype: int64"
      ]
     },
     "execution_count": 10,
     "metadata": {},
     "output_type": "execute_result"
    }
   ],
   "source": [
    "df.multiple_lines.value_counts()"
   ]
  },
  {
   "cell_type": "markdown",
   "id": "9744ea14-9a71-44d2-a48a-ae0f643a719b",
   "metadata": {},
   "source": [
    "### Takeaways:\n",
    "- data was successfully imported using SQL query the first time and using cached .csv copy of df after that\n",
    "    - see `acquire.py` file in repo for code\n",
    "- need to drop first four columns as they are database keys and don't add value\n",
    "- need to change all binary categorical columns to a consistent format (some are being represented as integers while others with strings)\n",
    "    - `senior_citizen` should be changed from integers of `0` and `1` to strings of `\"Yes\"` and `\"No\"` to be consistent with other binary categorical columns\n",
    "    - Encoding of these categorical columns will take place later\n",
    "- `total_charges` column is in object format and will need to be formatted to float\n",
    "- some columns appear to contain redundant information and will cause unnecessary column inflation when encoding takes place\n",
    "    - there is a column `internet_service_type` that tells you if they don't have internet but 6 other columns have a category for `\"No internet service\"`\n",
    "        - need to change those other 6 columns to only have 2 categories of `\"Yes\"` or `\"No\"` to remove redundancy where those who don't have internet would be converted to `\"No\"` group\n",
    "    - there is a column `phone_service` that tells you if they have phone service or not but there is another column `multiple_lines` that also has a `\"No phone service\"` category\n",
    "        - need to change this other column to only have 2 categories of `\"Yes\"` or `\"No\"` to remove redundancy where those who don't have phone would be converted to `\"No\"` group\n",
    "- *I will wait to plot distributions of individual variables until I have made these changes so that the information is meaningful*"
   ]
  },
  {
   "cell_type": "markdown",
   "id": "8a23e6db-b9d1-4aed-9666-15aeb956e043",
   "metadata": {},
   "source": [
    "---"
   ]
  },
  {
   "cell_type": "markdown",
   "id": "8331455a-c35d-4c0a-a237-88460dad93f0",
   "metadata": {},
   "source": [
    "## Prepare"
   ]
  },
  {
   "cell_type": "markdown",
   "id": "9fd49d54-b210-451d-b15d-82417d9015e4",
   "metadata": {},
   "source": [
    "---"
   ]
  },
  {
   "cell_type": "markdown",
   "id": "63dc31ab-40da-4d42-ab48-c38654d5a9d6",
   "metadata": {},
   "source": [
    "### Clean"
   ]
  },
  {
   "cell_type": "markdown",
   "id": "fb732ebd-84eb-4bef-8ba0-96528eed88a1",
   "metadata": {},
   "source": [
    "---"
   ]
  },
  {
   "cell_type": "code",
   "execution_count": 11,
   "id": "1d673bde-863c-4b2d-9f17-cade13945012",
   "metadata": {},
   "outputs": [],
   "source": [
    "# let's use the prepare.py module to implement findings above and clean data\n",
    "df = p.clean_telco(df)"
   ]
  },
  {
   "cell_type": "code",
   "execution_count": 12,
   "id": "f087085c-e4ac-495d-9f40-72742e74117e",
   "metadata": {},
   "outputs": [
    {
     "data": {
      "text/plain": [
       "(7043, 20)"
      ]
     },
     "execution_count": 12,
     "metadata": {},
     "output_type": "execute_result"
    }
   ],
   "source": [
    "# let's take a look at cleaned data shape\n",
    "df.shape"
   ]
  },
  {
   "cell_type": "code",
   "execution_count": 13,
   "id": "a2c927d0-cd9c-4e21-b9ec-151daa78ce46",
   "metadata": {},
   "outputs": [
    {
     "data": {
      "text/html": [
       "<div>\n",
       "<style scoped>\n",
       "    .dataframe tbody tr th:only-of-type {\n",
       "        vertical-align: middle;\n",
       "    }\n",
       "\n",
       "    .dataframe tbody tr th {\n",
       "        vertical-align: top;\n",
       "    }\n",
       "\n",
       "    .dataframe thead th {\n",
       "        text-align: right;\n",
       "    }\n",
       "</style>\n",
       "<table border=\"1\" class=\"dataframe\">\n",
       "  <thead>\n",
       "    <tr style=\"text-align: right;\">\n",
       "      <th></th>\n",
       "      <th>0</th>\n",
       "      <th>1</th>\n",
       "      <th>2</th>\n",
       "      <th>3</th>\n",
       "      <th>4</th>\n",
       "    </tr>\n",
       "  </thead>\n",
       "  <tbody>\n",
       "    <tr>\n",
       "      <th>gender</th>\n",
       "      <td>Female</td>\n",
       "      <td>Female</td>\n",
       "      <td>Male</td>\n",
       "      <td>Male</td>\n",
       "      <td>Female</td>\n",
       "    </tr>\n",
       "    <tr>\n",
       "      <th>senior_citizen</th>\n",
       "      <td>No</td>\n",
       "      <td>No</td>\n",
       "      <td>No</td>\n",
       "      <td>No</td>\n",
       "      <td>No</td>\n",
       "    </tr>\n",
       "    <tr>\n",
       "      <th>partner</th>\n",
       "      <td>No</td>\n",
       "      <td>Yes</td>\n",
       "      <td>No</td>\n",
       "      <td>No</td>\n",
       "      <td>Yes</td>\n",
       "    </tr>\n",
       "    <tr>\n",
       "      <th>dependents</th>\n",
       "      <td>No</td>\n",
       "      <td>Yes</td>\n",
       "      <td>No</td>\n",
       "      <td>No</td>\n",
       "      <td>No</td>\n",
       "    </tr>\n",
       "    <tr>\n",
       "      <th>tenure</th>\n",
       "      <td>3</td>\n",
       "      <td>4</td>\n",
       "      <td>27</td>\n",
       "      <td>1</td>\n",
       "      <td>10</td>\n",
       "    </tr>\n",
       "    <tr>\n",
       "      <th>phone_service</th>\n",
       "      <td>Yes</td>\n",
       "      <td>Yes</td>\n",
       "      <td>Yes</td>\n",
       "      <td>Yes</td>\n",
       "      <td>Yes</td>\n",
       "    </tr>\n",
       "    <tr>\n",
       "      <th>multiple_lines</th>\n",
       "      <td>No</td>\n",
       "      <td>No</td>\n",
       "      <td>No</td>\n",
       "      <td>No</td>\n",
       "      <td>No</td>\n",
       "    </tr>\n",
       "    <tr>\n",
       "      <th>online_security</th>\n",
       "      <td>No</td>\n",
       "      <td>No</td>\n",
       "      <td>No</td>\n",
       "      <td>No</td>\n",
       "      <td>No</td>\n",
       "    </tr>\n",
       "    <tr>\n",
       "      <th>online_backup</th>\n",
       "      <td>No</td>\n",
       "      <td>No</td>\n",
       "      <td>No</td>\n",
       "      <td>No</td>\n",
       "      <td>No</td>\n",
       "    </tr>\n",
       "    <tr>\n",
       "      <th>device_protection</th>\n",
       "      <td>No</td>\n",
       "      <td>No</td>\n",
       "      <td>No</td>\n",
       "      <td>No</td>\n",
       "      <td>No</td>\n",
       "    </tr>\n",
       "    <tr>\n",
       "      <th>tech_support</th>\n",
       "      <td>No</td>\n",
       "      <td>No</td>\n",
       "      <td>No</td>\n",
       "      <td>No</td>\n",
       "      <td>No</td>\n",
       "    </tr>\n",
       "    <tr>\n",
       "      <th>streaming_tv</th>\n",
       "      <td>No</td>\n",
       "      <td>No</td>\n",
       "      <td>No</td>\n",
       "      <td>No</td>\n",
       "      <td>No</td>\n",
       "    </tr>\n",
       "    <tr>\n",
       "      <th>streaming_movies</th>\n",
       "      <td>No</td>\n",
       "      <td>No</td>\n",
       "      <td>No</td>\n",
       "      <td>No</td>\n",
       "      <td>No</td>\n",
       "    </tr>\n",
       "    <tr>\n",
       "      <th>paperless_billing</th>\n",
       "      <td>No</td>\n",
       "      <td>No</td>\n",
       "      <td>Yes</td>\n",
       "      <td>Yes</td>\n",
       "      <td>Yes</td>\n",
       "    </tr>\n",
       "    <tr>\n",
       "      <th>monthly_charges</th>\n",
       "      <td>19.85</td>\n",
       "      <td>20.35</td>\n",
       "      <td>19.4</td>\n",
       "      <td>19.85</td>\n",
       "      <td>19.95</td>\n",
       "    </tr>\n",
       "    <tr>\n",
       "      <th>total_charges</th>\n",
       "      <td>57.2</td>\n",
       "      <td>76.35</td>\n",
       "      <td>529.8</td>\n",
       "      <td>19.85</td>\n",
       "      <td>187.75</td>\n",
       "    </tr>\n",
       "    <tr>\n",
       "      <th>churn</th>\n",
       "      <td>No</td>\n",
       "      <td>Yes</td>\n",
       "      <td>No</td>\n",
       "      <td>Yes</td>\n",
       "      <td>No</td>\n",
       "    </tr>\n",
       "    <tr>\n",
       "      <th>internet_service_type</th>\n",
       "      <td>None</td>\n",
       "      <td>None</td>\n",
       "      <td>None</td>\n",
       "      <td>None</td>\n",
       "      <td>None</td>\n",
       "    </tr>\n",
       "    <tr>\n",
       "      <th>contract_type</th>\n",
       "      <td>Month-to-month</td>\n",
       "      <td>Month-to-month</td>\n",
       "      <td>Month-to-month</td>\n",
       "      <td>Month-to-month</td>\n",
       "      <td>Month-to-month</td>\n",
       "    </tr>\n",
       "    <tr>\n",
       "      <th>payment_type</th>\n",
       "      <td>Mailed check</td>\n",
       "      <td>Mailed check</td>\n",
       "      <td>Electronic check</td>\n",
       "      <td>Electronic check</td>\n",
       "      <td>Bank transfer (automatic)</td>\n",
       "    </tr>\n",
       "  </tbody>\n",
       "</table>\n",
       "</div>"
      ],
      "text/plain": [
       "                                    0               1                 2  \\\n",
       "gender                         Female          Female              Male   \n",
       "senior_citizen                     No              No                No   \n",
       "partner                            No             Yes                No   \n",
       "dependents                         No             Yes                No   \n",
       "tenure                              3               4                27   \n",
       "phone_service                     Yes             Yes               Yes   \n",
       "multiple_lines                     No              No                No   \n",
       "online_security                    No              No                No   \n",
       "online_backup                      No              No                No   \n",
       "device_protection                  No              No                No   \n",
       "tech_support                       No              No                No   \n",
       "streaming_tv                       No              No                No   \n",
       "streaming_movies                   No              No                No   \n",
       "paperless_billing                  No              No               Yes   \n",
       "monthly_charges                 19.85           20.35              19.4   \n",
       "total_charges                    57.2           76.35             529.8   \n",
       "churn                              No             Yes                No   \n",
       "internet_service_type            None            None              None   \n",
       "contract_type          Month-to-month  Month-to-month    Month-to-month   \n",
       "payment_type             Mailed check    Mailed check  Electronic check   \n",
       "\n",
       "                                      3                          4  \n",
       "gender                             Male                     Female  \n",
       "senior_citizen                       No                         No  \n",
       "partner                              No                        Yes  \n",
       "dependents                           No                         No  \n",
       "tenure                                1                         10  \n",
       "phone_service                       Yes                        Yes  \n",
       "multiple_lines                       No                         No  \n",
       "online_security                      No                         No  \n",
       "online_backup                        No                         No  \n",
       "device_protection                    No                         No  \n",
       "tech_support                         No                         No  \n",
       "streaming_tv                         No                         No  \n",
       "streaming_movies                     No                         No  \n",
       "paperless_billing                   Yes                        Yes  \n",
       "monthly_charges                   19.85                      19.95  \n",
       "total_charges                     19.85                     187.75  \n",
       "churn                               Yes                         No  \n",
       "internet_service_type              None                       None  \n",
       "contract_type            Month-to-month             Month-to-month  \n",
       "payment_type           Electronic check  Bank transfer (automatic)  "
      ]
     },
     "execution_count": 13,
     "metadata": {},
     "output_type": "execute_result"
    }
   ],
   "source": [
    "# let's take a look at cleaned data\n",
    "df.head().T"
   ]
  },
  {
   "cell_type": "code",
   "execution_count": 14,
   "id": "64cc6996-57b4-4109-ab1c-c4aa433e538f",
   "metadata": {},
   "outputs": [
    {
     "name": "stdout",
     "output_type": "stream",
     "text": [
      "Data type for senior_citizen column is now: object.\n",
      "Data type for total_charges column is now: float64.\n"
     ]
    }
   ],
   "source": [
    "# let's make sure data types are correct for modified columns\n",
    "print(f'Data type for senior_citizen column is now: {df.senior_citizen.dtype}.')\n",
    "print(f'Data type for total_charges column is now: {df.total_charges.dtype}.')"
   ]
  },
  {
   "cell_type": "code",
   "execution_count": 15,
   "id": "4fa92ad7-4209-4c15-a8a4-229f24459f0a",
   "metadata": {},
   "outputs": [
    {
     "data": {
      "text/plain": [
       "No     5024\n",
       "Yes    2019\n",
       "Name: online_security, dtype: int64"
      ]
     },
     "execution_count": 15,
     "metadata": {},
     "output_type": "execute_result"
    }
   ],
   "source": [
    "# let's make sure redundencies were taken care of for each service type\n",
    "df.online_security.value_counts()"
   ]
  },
  {
   "cell_type": "code",
   "execution_count": 16,
   "id": "2ba00544-5de9-403f-9ec5-f2a0ac3ec254",
   "metadata": {},
   "outputs": [
    {
     "data": {
      "text/plain": [
       "No     4072\n",
       "Yes    2971\n",
       "Name: multiple_lines, dtype: int64"
      ]
     },
     "execution_count": 16,
     "metadata": {},
     "output_type": "execute_result"
    }
   ],
   "source": [
    "df.multiple_lines.value_counts()"
   ]
  },
  {
   "cell_type": "markdown",
   "id": "99126574-42c4-47cf-9969-a6c8dbdee558",
   "metadata": {},
   "source": [
    "#### Takeaways:\n",
    "- data was cleaned successfully using imported prepare.py module (see module in repo for code)\n",
    "    - unneeded columns were successfully dropped\n",
    "    - `senior_citizen` column was successfully modified\n",
    "    - `total_charges` column data type was successfully cast to float\n",
    "        - There were 11 values of `\" \"` in this column that all had values of `0` for tenure, so these columns were converted to value of `0`\n",
    "    - 7 columns with redundancies were successfully modified according to observations and explanation above"
   ]
  },
  {
   "cell_type": "markdown",
   "id": "9a4cff49-af06-45d7-ae6e-c4557d313ac5",
   "metadata": {},
   "source": [
    "---"
   ]
  },
  {
   "cell_type": "markdown",
   "id": "d6bcb840-12e1-458f-bf57-905c63d54b78",
   "metadata": {},
   "source": [
    "### Missing Values/Imputation"
   ]
  },
  {
   "cell_type": "markdown",
   "id": "de3445ef-2f86-42e9-a92f-98b9ac0ca539",
   "metadata": {},
   "source": [
    "---"
   ]
  },
  {
   "cell_type": "code",
   "execution_count": 17,
   "id": "e48db4c0-fda9-4f23-868b-4251cb971895",
   "metadata": {},
   "outputs": [
    {
     "data": {
      "text/plain": [
       "gender                   0\n",
       "senior_citizen           0\n",
       "partner                  0\n",
       "dependents               0\n",
       "tenure                   0\n",
       "phone_service            0\n",
       "multiple_lines           0\n",
       "online_security          0\n",
       "online_backup            0\n",
       "device_protection        0\n",
       "tech_support             0\n",
       "streaming_tv             0\n",
       "streaming_movies         0\n",
       "paperless_billing        0\n",
       "monthly_charges          0\n",
       "total_charges            0\n",
       "churn                    0\n",
       "internet_service_type    0\n",
       "contract_type            0\n",
       "payment_type             0\n",
       "dtype: int64"
      ]
     },
     "execution_count": 17,
     "metadata": {},
     "output_type": "execute_result"
    }
   ],
   "source": [
    "# check to see if we have any missing values\n",
    "df.isnull().sum()"
   ]
  },
  {
   "cell_type": "markdown",
   "id": "a661e148-8051-4c96-bd8e-eebdf2304642",
   "metadata": {},
   "source": [
    "#### Takeaways:\n",
    "- There are no missing values in this cleaned data, therefore imputation is not necessary here."
   ]
  },
  {
   "cell_type": "markdown",
   "id": "63282350-ae5e-4ff4-abbf-a25636d3ec6b",
   "metadata": {},
   "source": [
    "---"
   ]
  },
  {
   "cell_type": "markdown",
   "id": "f6894031-fb23-4fe9-8ec7-0f307cb6d8ce",
   "metadata": {},
   "source": [
    "### Individual Variable Distributions/Value Counts"
   ]
  },
  {
   "cell_type": "markdown",
   "id": "2f577395-0d3f-49cd-ac53-41d192b5eebf",
   "metadata": {},
   "source": [
    "---"
   ]
  },
  {
   "cell_type": "code",
   "execution_count": 18,
   "id": "7883aa44-d5d6-4168-b0e3-737889147cf5",
   "metadata": {},
   "outputs": [],
   "source": [
    "# create a list of all numeric columns to use below in function\n",
    "quant_vars = df.select_dtypes(include = ['number']).columns.tolist()"
   ]
  },
  {
   "cell_type": "code",
   "execution_count": 19,
   "id": "7458ed70-0a7f-4231-ad4a-4e2d41a0b692",
   "metadata": {},
   "outputs": [],
   "source": [
    "# create a list of all categorical columns to use below in function\n",
    "cat_vars = df.select_dtypes(include = 'object').columns.tolist()"
   ]
  },
  {
   "cell_type": "code",
   "execution_count": 20,
   "id": "52511512-8d6a-40c5-98f9-97ac7eb1fe90",
   "metadata": {
    "tags": []
   },
   "outputs": [
    {
     "data": {
      "image/png": "[encoded data removed]",
      "text/plain": [
       "<Figure size 144x144 with 1 Axes>"
      ]
     },
     "metadata": {
      "needs_background": "light"
     },
     "output_type": "display_data"
    },
    {
     "name": "stdout",
     "output_type": "stream",
     "text": [
      "        gender  Count  Percent\n",
      "Male    Female   3555    50.48\n",
      "Female    Male   3488    49.52\n",
      "_________________________________________________________________\n"
     ]
    },
    {
     "data": {
      "image/png": "[encoded data removed]",
      "text/plain": [
       "<Figure size 144x144 with 1 Axes>"
      ]
     },
     "metadata": {
      "needs_background": "light"
     },
     "output_type": "display_data"
    },
    {
     "name": "stdout",
     "output_type": "stream",
     "text": [
      "    senior_citizen  Count  Percent\n",
      "No              No   5901    83.79\n",
      "Yes            Yes   1142    16.21\n",
      "_________________________________________________________________\n"
     ]
    },
    {
     "data": {
      "image/png": "[encoded data removed]",
      "text/plain": [
       "<Figure size 144x144 with 1 Axes>"
      ]
     },
     "metadata": {
      "needs_background": "light"
     },
     "output_type": "display_data"
    },
    {
     "name": "stdout",
     "output_type": "stream",
     "text": [
      "    partner  Count  Percent\n",
      "No       No   3641     51.7\n",
      "Yes     Yes   3402     48.3\n",
      "_________________________________________________________________\n"
     ]
    },
    {
     "data": {
      "image/png": "[encoded data removed]",
      "text/plain": [
       "<Figure size 144x144 with 1 Axes>"
      ]
     },
     "metadata": {
      "needs_background": "light"
     },
     "output_type": "display_data"
    },
    {
     "name": "stdout",
     "output_type": "stream",
     "text": [
      "    dependents  Count  Percent\n",
      "No          No   4933    70.04\n",
      "Yes        Yes   2110    29.96\n",
      "_________________________________________________________________\n"
     ]
    },
    {
     "data": {
      "image/png": "[encoded data removed]",
      "text/plain": [
       "<Figure size 144x144 with 1 Axes>"
      ]
     },
     "metadata": {
      "needs_background": "light"
     },
     "output_type": "display_data"
    },
    {
     "name": "stdout",
     "output_type": "stream",
     "text": [
      "    phone_service  Count  Percent\n",
      "Yes           Yes   6361    90.32\n",
      "No             No    682     9.68\n",
      "_________________________________________________________________\n"
     ]
    },
    {
     "data": {
      "image/png": "[encoded data removed]",
      "text/plain": [
       "<Figure size 144x144 with 1 Axes>"
      ]
     },
     "metadata": {
      "needs_background": "light"
     },
     "output_type": "display_data"
    },
    {
     "name": "stdout",
     "output_type": "stream",
     "text": [
      "    multiple_lines  Count  Percent\n",
      "No              No   4072    57.82\n",
      "Yes            Yes   2971    42.18\n",
      "_________________________________________________________________\n"
     ]
    },
    {
     "data": {
      "image/png": "[encoded data removed]",
      "text/plain": [
       "<Figure size 144x144 with 1 Axes>"
      ]
     },
     "metadata": {
      "needs_background": "light"
     },
     "output_type": "display_data"
    },
    {
     "name": "stdout",
     "output_type": "stream",
     "text": [
      "    online_security  Count  Percent\n",
      "No               No   5024    71.33\n",
      "Yes             Yes   2019    28.67\n",
      "_________________________________________________________________\n"
     ]
    },
    {
     "data": {
      "image/png": "[encoded data removed]",
      "text/plain": [
       "<Figure size 144x144 with 1 Axes>"
      ]
     },
     "metadata": {
      "needs_background": "light"
     },
     "output_type": "display_data"
    },
    {
     "name": "stdout",
     "output_type": "stream",
     "text": [
      "    online_backup  Count  Percent\n",
      "No             No   4614    65.51\n",
      "Yes           Yes   2429    34.49\n",
      "_________________________________________________________________\n"
     ]
    },
    {
     "data": {
      "image/png": "[encoded data removed]",
      "text/plain": [
       "<Figure size 144x144 with 1 Axes>"
      ]
     },
     "metadata": {
      "needs_background": "light"
     },
     "output_type": "display_data"
    },
    {
     "name": "stdout",
     "output_type": "stream",
     "text": [
      "    device_protection  Count  Percent\n",
      "No                 No   4621    65.61\n",
      "Yes               Yes   2422    34.39\n",
      "_________________________________________________________________\n"
     ]
    },
    {
     "data": {
      "image/png": "[encoded data removed]",
      "text/plain": [
       "<Figure size 144x144 with 1 Axes>"
      ]
     },
     "metadata": {
      "needs_background": "light"
     },
     "output_type": "display_data"
    },
    {
     "name": "stdout",
     "output_type": "stream",
     "text": [
      "    tech_support  Count  Percent\n",
      "No            No   4999    70.98\n",
      "Yes          Yes   2044    29.02\n",
      "_________________________________________________________________\n"
     ]
    },
    {
     "data": {
      "image/png": "[encoded data removed]",
      "text/plain": [
       "<Figure size 144x144 with 1 Axes>"
      ]
     },
     "metadata": {
      "needs_background": "light"
     },
     "output_type": "display_data"
    },
    {
     "name": "stdout",
     "output_type": "stream",
     "text": [
      "    streaming_tv  Count  Percent\n",
      "No            No   4336    61.56\n",
      "Yes          Yes   2707    38.44\n",
      "_________________________________________________________________\n"
     ]
    },
    {
     "data": {
      "image/png": "[encoded data removed]",
      "text/plain": [
       "<Figure size 144x144 with 1 Axes>"
      ]
     },
     "metadata": {
      "needs_background": "light"
     },
     "output_type": "display_data"
    },
    {
     "name": "stdout",
     "output_type": "stream",
     "text": [
      "    streaming_movies  Count  Percent\n",
      "No                No   4311    61.21\n",
      "Yes              Yes   2732    38.79\n",
      "_________________________________________________________________\n"
     ]
    },
    {
     "data": {
      "image/png": "[encoded data removed]",
      "text/plain": [
       "<Figure size 144x144 with 1 Axes>"
      ]
     },
     "metadata": {
      "needs_background": "light"
     },
     "output_type": "display_data"
    },
    {
     "name": "stdout",
     "output_type": "stream",
     "text": [
      "    paperless_billing  Count  Percent\n",
      "Yes                No   4171    59.22\n",
      "No                Yes   2872    40.78\n",
      "_________________________________________________________________\n"
     ]
    },
    {
     "data": {
      "image/png": "[encoded data removed]",
      "text/plain": [
       "<Figure size 144x144 with 1 Axes>"
      ]
     },
     "metadata": {
      "needs_background": "light"
     },
     "output_type": "display_data"
    },
    {
     "name": "stdout",
     "output_type": "stream",
     "text": [
      "    churn  Count  Percent\n",
      "No     No   5174    73.46\n",
      "Yes   Yes   1869    26.54\n",
      "_________________________________________________________________\n"
     ]
    },
    {
     "data": {
      "image/png": "[encoded data removed]",
      "text/plain": [
       "<Figure size 144x144 with 1 Axes>"
      ]
     },
     "metadata": {
      "needs_background": "light"
     },
     "output_type": "display_data"
    },
    {
     "name": "stdout",
     "output_type": "stream",
     "text": [
      "            internet_service_type  Count  Percent\n",
      "Fiber optic                  None   3096    43.96\n",
      "DSL                   Fiber optic   2421    34.37\n",
      "None                          DSL   1526    21.67\n",
      "_________________________________________________________________\n"
     ]
    },
    {
     "data": {
      "image/png": "[encoded data removed]",
      "text/plain": [
       "<Figure size 144x144 with 1 Axes>"
      ]
     },
     "metadata": {
      "needs_background": "light"
     },
     "output_type": "display_data"
    },
    {
     "name": "stdout",
     "output_type": "stream",
     "text": [
      "                 contract_type  Count  Percent\n",
      "Month-to-month  Month-to-month   3875    55.02\n",
      "Two year              One year   1695    24.07\n",
      "One year              Two year   1473    20.91\n",
      "_________________________________________________________________\n"
     ]
    },
    {
     "data": {
      "image/png": "[encoded data removed]",
      "text/plain": [
       "<Figure size 144x144 with 1 Axes>"
      ]
     },
     "metadata": {
      "needs_background": "light"
     },
     "output_type": "display_data"
    },
    {
     "name": "stdout",
     "output_type": "stream",
     "text": [
      "                                        payment_type  Count  Percent\n",
      "Electronic check                        Mailed check   2365    33.58\n",
      "Mailed check                        Electronic check   1612    22.89\n",
      "Bank transfer (automatic)  Bank transfer (automatic)   1544    21.92\n",
      "Credit card (automatic)      Credit card (automatic)   1522    21.61\n",
      "_________________________________________________________________\n"
     ]
    },
    {
     "data": {
      "image/png": "[encoded data removed]",
      "text/plain": [
       "<Figure size 576x144 with 2 Axes>"
      ]
     },
     "metadata": {
      "needs_background": "light"
     },
     "output_type": "display_data"
    },
    {
     "name": "stdout",
     "output_type": "stream",
     "text": [
      "count    7043.000000\n",
      "mean       32.371149\n",
      "std        24.559481\n",
      "min         0.000000\n",
      "25%         9.000000\n",
      "50%        29.000000\n",
      "75%        55.000000\n",
      "max        72.000000\n",
      "Name: tenure, dtype: float64\n"
     ]
    },
    {
     "data": {
      "image/png": "[encoded data removed]",
      "text/plain": [
       "<Figure size 576x144 with 2 Axes>"
      ]
     },
     "metadata": {
      "needs_background": "light"
     },
     "output_type": "display_data"
    },
    {
     "name": "stdout",
     "output_type": "stream",
     "text": [
      "count    7043.000000\n",
      "mean       64.761692\n",
      "std        30.090047\n",
      "min        18.250000\n",
      "25%        35.500000\n",
      "50%        70.350000\n",
      "75%        89.850000\n",
      "max       118.750000\n",
      "Name: monthly_charges, dtype: float64\n"
     ]
    },
    {
     "data": {
      "image/png": "[encoded data removed]",
      "text/plain": [
       "<Figure size 576x144 with 2 Axes>"
      ]
     },
     "metadata": {
      "needs_background": "light"
     },
     "output_type": "display_data"
    },
    {
     "name": "stdout",
     "output_type": "stream",
     "text": [
      "count    7043.000000\n",
      "mean     2279.734304\n",
      "std      2266.794470\n",
      "min         0.000000\n",
      "25%       398.550000\n",
      "50%      1394.550000\n",
      "75%      3786.600000\n",
      "max      8684.800000\n",
      "Name: total_charges, dtype: float64\n"
     ]
    }
   ],
   "source": [
    "# use explore_univariate function from imported explore.py module to take a look at individual variables to get high level view, look for outliers, etc.\n",
    "e.explore_univariate(df, cat_vars, quant_vars)"
   ]
  },
  {
   "cell_type": "markdown",
   "id": "53713834-1ee6-47f5-9715-fadd3e789868",
   "metadata": {},
   "source": [
    "#### Takeaways:\n",
    "- 27% of customers are churning\n",
    "- 55% of customers pay month-to-month\n",
    "- Largest group of customers pay via mailed check\n",
    "- Majority of customers (56%) pay via manual payment methods\n",
    "- Tenure distribution shows peaks at extremes\n",
    "- Monthly charges distribution shows peak at low end and then a semi normal distribution for rest of population\n",
    "- Total charges distribution shows peak at lower end\n",
    "- Don't see outliers on box plots for numeric columns"
   ]
  },
  {
   "cell_type": "markdown",
   "id": "bcc28498-a404-45a9-8cec-9800e9922600",
   "metadata": {},
   "source": [
    "---"
   ]
  },
  {
   "cell_type": "markdown",
   "id": "50338c02-5fce-438b-9e2e-b0ea2ba1089c",
   "metadata": {},
   "source": [
    "### Split"
   ]
  },
  {
   "cell_type": "markdown",
   "id": "6dd80801-9c48-47f9-a454-46e590ddad38",
   "metadata": {},
   "source": [
    "---"
   ]
  },
  {
   "cell_type": "markdown",
   "id": "82c08798-4039-4cd6-ad57-33e48437d224",
   "metadata": {},
   "source": [
    "#### Split without encoding"
   ]
  },
  {
   "cell_type": "code",
   "execution_count": 21,
   "id": "df498aca-3e88-4ba0-a5d9-0964804991e0",
   "metadata": {},
   "outputs": [],
   "source": [
    "# split the df before encoding to prepare for exploration using function from prepare.py\n",
    "train, validate, test = p.split_telco(df)"
   ]
  },
  {
   "cell_type": "code",
   "execution_count": 22,
   "id": "66ca4c9f-2da0-4104-8c79-6f3ffa2e7522",
   "metadata": {},
   "outputs": [
    {
     "name": "stdout",
     "output_type": "stream",
     "text": [
      "Proportion of train: 0.60\n",
      "Proportion of validate: 0.20\n",
      "Proportion of test: 0.20\n"
     ]
    }
   ],
   "source": [
    "# check proportions of splits\n",
    "print(f'Proportion of train: {train.shape[0]/df.shape[0]:.2f}')\n",
    "print(f'Proportion of validate: {validate.shape[0]/df.shape[0]:.2f}')\n",
    "print(f'Proportion of test: {test.shape[0]/df.shape[0]:.2f}')"
   ]
  },
  {
   "cell_type": "code",
   "execution_count": 23,
   "id": "692852ff-4ead-4fa6-9602-9273f609621a",
   "metadata": {},
   "outputs": [
    {
     "data": {
      "text/html": [
       "<div>\n",
       "<style scoped>\n",
       "    .dataframe tbody tr th:only-of-type {\n",
       "        vertical-align: middle;\n",
       "    }\n",
       "\n",
       "    .dataframe tbody tr th {\n",
       "        vertical-align: top;\n",
       "    }\n",
       "\n",
       "    .dataframe thead th {\n",
       "        text-align: right;\n",
       "    }\n",
       "</style>\n",
       "<table border=\"1\" class=\"dataframe\">\n",
       "  <thead>\n",
       "    <tr style=\"text-align: right;\">\n",
       "      <th></th>\n",
       "      <th>6169</th>\n",
       "      <th>3290</th>\n",
       "      <th>3615</th>\n",
       "      <th>6309</th>\n",
       "      <th>856</th>\n",
       "    </tr>\n",
       "  </thead>\n",
       "  <tbody>\n",
       "    <tr>\n",
       "      <th>gender</th>\n",
       "      <td>Female</td>\n",
       "      <td>Female</td>\n",
       "      <td>Male</td>\n",
       "      <td>Male</td>\n",
       "      <td>Male</td>\n",
       "    </tr>\n",
       "    <tr>\n",
       "      <th>senior_citizen</th>\n",
       "      <td>No</td>\n",
       "      <td>No</td>\n",
       "      <td>No</td>\n",
       "      <td>No</td>\n",
       "      <td>Yes</td>\n",
       "    </tr>\n",
       "    <tr>\n",
       "      <th>partner</th>\n",
       "      <td>Yes</td>\n",
       "      <td>Yes</td>\n",
       "      <td>Yes</td>\n",
       "      <td>No</td>\n",
       "      <td>No</td>\n",
       "    </tr>\n",
       "    <tr>\n",
       "      <th>dependents</th>\n",
       "      <td>No</td>\n",
       "      <td>Yes</td>\n",
       "      <td>No</td>\n",
       "      <td>Yes</td>\n",
       "      <td>No</td>\n",
       "    </tr>\n",
       "    <tr>\n",
       "      <th>tenure</th>\n",
       "      <td>72</td>\n",
       "      <td>28</td>\n",
       "      <td>5</td>\n",
       "      <td>39</td>\n",
       "      <td>45</td>\n",
       "    </tr>\n",
       "    <tr>\n",
       "      <th>phone_service</th>\n",
       "      <td>Yes</td>\n",
       "      <td>Yes</td>\n",
       "      <td>No</td>\n",
       "      <td>Yes</td>\n",
       "      <td>Yes</td>\n",
       "    </tr>\n",
       "    <tr>\n",
       "      <th>multiple_lines</th>\n",
       "      <td>Yes</td>\n",
       "      <td>Yes</td>\n",
       "      <td>No</td>\n",
       "      <td>Yes</td>\n",
       "      <td>Yes</td>\n",
       "    </tr>\n",
       "    <tr>\n",
       "      <th>online_security</th>\n",
       "      <td>Yes</td>\n",
       "      <td>No</td>\n",
       "      <td>No</td>\n",
       "      <td>No</td>\n",
       "      <td>No</td>\n",
       "    </tr>\n",
       "    <tr>\n",
       "      <th>online_backup</th>\n",
       "      <td>No</td>\n",
       "      <td>No</td>\n",
       "      <td>No</td>\n",
       "      <td>No</td>\n",
       "      <td>No</td>\n",
       "    </tr>\n",
       "    <tr>\n",
       "      <th>device_protection</th>\n",
       "      <td>Yes</td>\n",
       "      <td>No</td>\n",
       "      <td>No</td>\n",
       "      <td>No</td>\n",
       "      <td>No</td>\n",
       "    </tr>\n",
       "    <tr>\n",
       "      <th>tech_support</th>\n",
       "      <td>No</td>\n",
       "      <td>No</td>\n",
       "      <td>No</td>\n",
       "      <td>Yes</td>\n",
       "      <td>No</td>\n",
       "    </tr>\n",
       "    <tr>\n",
       "      <th>streaming_tv</th>\n",
       "      <td>Yes</td>\n",
       "      <td>No</td>\n",
       "      <td>No</td>\n",
       "      <td>Yes</td>\n",
       "      <td>Yes</td>\n",
       "    </tr>\n",
       "    <tr>\n",
       "      <th>streaming_movies</th>\n",
       "      <td>Yes</td>\n",
       "      <td>No</td>\n",
       "      <td>No</td>\n",
       "      <td>Yes</td>\n",
       "      <td>Yes</td>\n",
       "    </tr>\n",
       "    <tr>\n",
       "      <th>paperless_billing</th>\n",
       "      <td>Yes</td>\n",
       "      <td>No</td>\n",
       "      <td>Yes</td>\n",
       "      <td>No</td>\n",
       "      <td>Yes</td>\n",
       "    </tr>\n",
       "    <tr>\n",
       "      <th>monthly_charges</th>\n",
       "      <td>105.5</td>\n",
       "      <td>49.9</td>\n",
       "      <td>24.95</td>\n",
       "      <td>100.55</td>\n",
       "      <td>93.9</td>\n",
       "    </tr>\n",
       "    <tr>\n",
       "      <th>total_charges</th>\n",
       "      <td>7544.0</td>\n",
       "      <td>1410.25</td>\n",
       "      <td>100.4</td>\n",
       "      <td>3895.35</td>\n",
       "      <td>4200.25</td>\n",
       "    </tr>\n",
       "    <tr>\n",
       "      <th>churn</th>\n",
       "      <td>No</td>\n",
       "      <td>No</td>\n",
       "      <td>Yes</td>\n",
       "      <td>No</td>\n",
       "      <td>No</td>\n",
       "    </tr>\n",
       "    <tr>\n",
       "      <th>internet_service_type</th>\n",
       "      <td>Fiber optic</td>\n",
       "      <td>DSL</td>\n",
       "      <td>DSL</td>\n",
       "      <td>Fiber optic</td>\n",
       "      <td>Fiber optic</td>\n",
       "    </tr>\n",
       "    <tr>\n",
       "      <th>contract_type</th>\n",
       "      <td>Two year</td>\n",
       "      <td>Month-to-month</td>\n",
       "      <td>Month-to-month</td>\n",
       "      <td>Two year</td>\n",
       "      <td>Month-to-month</td>\n",
       "    </tr>\n",
       "    <tr>\n",
       "      <th>payment_type</th>\n",
       "      <td>Electronic check</td>\n",
       "      <td>Mailed check</td>\n",
       "      <td>Electronic check</td>\n",
       "      <td>Mailed check</td>\n",
       "      <td>Bank transfer (automatic)</td>\n",
       "    </tr>\n",
       "  </tbody>\n",
       "</table>\n",
       "</div>"
      ],
      "text/plain": [
       "                                   6169            3290              3615  \\\n",
       "gender                           Female          Female              Male   \n",
       "senior_citizen                       No              No                No   \n",
       "partner                             Yes             Yes               Yes   \n",
       "dependents                           No             Yes                No   \n",
       "tenure                               72              28                 5   \n",
       "phone_service                       Yes             Yes                No   \n",
       "multiple_lines                      Yes             Yes                No   \n",
       "online_security                     Yes              No                No   \n",
       "online_backup                        No              No                No   \n",
       "device_protection                   Yes              No                No   \n",
       "tech_support                         No              No                No   \n",
       "streaming_tv                        Yes              No                No   \n",
       "streaming_movies                    Yes              No                No   \n",
       "paperless_billing                   Yes              No               Yes   \n",
       "monthly_charges                   105.5            49.9             24.95   \n",
       "total_charges                    7544.0         1410.25             100.4   \n",
       "churn                                No              No               Yes   \n",
       "internet_service_type       Fiber optic             DSL               DSL   \n",
       "contract_type                  Two year  Month-to-month    Month-to-month   \n",
       "payment_type           Electronic check    Mailed check  Electronic check   \n",
       "\n",
       "                               6309                       856   \n",
       "gender                         Male                       Male  \n",
       "senior_citizen                   No                        Yes  \n",
       "partner                          No                         No  \n",
       "dependents                      Yes                         No  \n",
       "tenure                           39                         45  \n",
       "phone_service                   Yes                        Yes  \n",
       "multiple_lines                  Yes                        Yes  \n",
       "online_security                  No                         No  \n",
       "online_backup                    No                         No  \n",
       "device_protection                No                         No  \n",
       "tech_support                    Yes                         No  \n",
       "streaming_tv                    Yes                        Yes  \n",
       "streaming_movies                Yes                        Yes  \n",
       "paperless_billing                No                        Yes  \n",
       "monthly_charges              100.55                       93.9  \n",
       "total_charges               3895.35                    4200.25  \n",
       "churn                            No                         No  \n",
       "internet_service_type   Fiber optic                Fiber optic  \n",
       "contract_type              Two year             Month-to-month  \n",
       "payment_type           Mailed check  Bank transfer (automatic)  "
      ]
     },
     "execution_count": 23,
     "metadata": {},
     "output_type": "execute_result"
    }
   ],
   "source": [
    "# take a look at split\n",
    "train.head().T"
   ]
  },
  {
   "cell_type": "markdown",
   "id": "d089e6ff-efa6-4307-9fe6-18273af43f12",
   "metadata": {},
   "source": [
    "#### Split with encoding"
   ]
  },
  {
   "cell_type": "code",
   "execution_count": 24,
   "id": "a94a04b2-d3fa-4825-bd85-50025056c9df",
   "metadata": {},
   "outputs": [],
   "source": [
    "# split data and encode to prep data for modeling using function from prepare.py\n",
    "train_encoded, validate_encoded, test_encoded = p.dummy_and_split_telco(df)"
   ]
  },
  {
   "cell_type": "code",
   "execution_count": 25,
   "id": "0b1d9ded-241e-46c9-8764-523a75fc52d8",
   "metadata": {},
   "outputs": [
    {
     "name": "stdout",
     "output_type": "stream",
     "text": [
      "Proportion of train: 0.60\n",
      "Proportion of validate: 0.20\n",
      "Proportion of test: 0.20\n"
     ]
    }
   ],
   "source": [
    "# check proportions of splits\n",
    "print(f'Proportion of train: {train_encoded.shape[0]/df.shape[0]:.2f}')\n",
    "print(f'Proportion of validate: {validate_encoded.shape[0]/df.shape[0]:.2f}')\n",
    "print(f'Proportion of test: {test_encoded.shape[0]/df.shape[0]:.2f}')"
   ]
  },
  {
   "cell_type": "code",
   "execution_count": 26,
   "id": "425545b7-05e3-47a5-a2ef-e941d58c9699",
   "metadata": {},
   "outputs": [
    {
     "data": {
      "text/html": [
       "<div>\n",
       "<style scoped>\n",
       "    .dataframe tbody tr th:only-of-type {\n",
       "        vertical-align: middle;\n",
       "    }\n",
       "\n",
       "    .dataframe tbody tr th {\n",
       "        vertical-align: top;\n",
       "    }\n",
       "\n",
       "    .dataframe thead th {\n",
       "        text-align: right;\n",
       "    }\n",
       "</style>\n",
       "<table border=\"1\" class=\"dataframe\">\n",
       "  <thead>\n",
       "    <tr style=\"text-align: right;\">\n",
       "      <th></th>\n",
       "      <th>6169</th>\n",
       "      <th>3290</th>\n",
       "      <th>3615</th>\n",
       "      <th>6309</th>\n",
       "      <th>856</th>\n",
       "    </tr>\n",
       "  </thead>\n",
       "  <tbody>\n",
       "    <tr>\n",
       "      <th>tenure</th>\n",
       "      <td>72.0</td>\n",
       "      <td>28.00</td>\n",
       "      <td>5.00</td>\n",
       "      <td>39.00</td>\n",
       "      <td>45.00</td>\n",
       "    </tr>\n",
       "    <tr>\n",
       "      <th>monthly_charges</th>\n",
       "      <td>105.5</td>\n",
       "      <td>49.90</td>\n",
       "      <td>24.95</td>\n",
       "      <td>100.55</td>\n",
       "      <td>93.90</td>\n",
       "    </tr>\n",
       "    <tr>\n",
       "      <th>total_charges</th>\n",
       "      <td>7544.0</td>\n",
       "      <td>1410.25</td>\n",
       "      <td>100.40</td>\n",
       "      <td>3895.35</td>\n",
       "      <td>4200.25</td>\n",
       "    </tr>\n",
       "    <tr>\n",
       "      <th>gender_Male</th>\n",
       "      <td>0.0</td>\n",
       "      <td>0.00</td>\n",
       "      <td>1.00</td>\n",
       "      <td>1.00</td>\n",
       "      <td>1.00</td>\n",
       "    </tr>\n",
       "    <tr>\n",
       "      <th>senior_citizen_Yes</th>\n",
       "      <td>0.0</td>\n",
       "      <td>0.00</td>\n",
       "      <td>0.00</td>\n",
       "      <td>0.00</td>\n",
       "      <td>1.00</td>\n",
       "    </tr>\n",
       "    <tr>\n",
       "      <th>partner_Yes</th>\n",
       "      <td>1.0</td>\n",
       "      <td>1.00</td>\n",
       "      <td>1.00</td>\n",
       "      <td>0.00</td>\n",
       "      <td>0.00</td>\n",
       "    </tr>\n",
       "    <tr>\n",
       "      <th>dependents_Yes</th>\n",
       "      <td>0.0</td>\n",
       "      <td>1.00</td>\n",
       "      <td>0.00</td>\n",
       "      <td>1.00</td>\n",
       "      <td>0.00</td>\n",
       "    </tr>\n",
       "    <tr>\n",
       "      <th>phone_service_Yes</th>\n",
       "      <td>1.0</td>\n",
       "      <td>1.00</td>\n",
       "      <td>0.00</td>\n",
       "      <td>1.00</td>\n",
       "      <td>1.00</td>\n",
       "    </tr>\n",
       "    <tr>\n",
       "      <th>multiple_lines_Yes</th>\n",
       "      <td>1.0</td>\n",
       "      <td>1.00</td>\n",
       "      <td>0.00</td>\n",
       "      <td>1.00</td>\n",
       "      <td>1.00</td>\n",
       "    </tr>\n",
       "    <tr>\n",
       "      <th>online_security_Yes</th>\n",
       "      <td>1.0</td>\n",
       "      <td>0.00</td>\n",
       "      <td>0.00</td>\n",
       "      <td>0.00</td>\n",
       "      <td>0.00</td>\n",
       "    </tr>\n",
       "    <tr>\n",
       "      <th>online_backup_Yes</th>\n",
       "      <td>0.0</td>\n",
       "      <td>0.00</td>\n",
       "      <td>0.00</td>\n",
       "      <td>0.00</td>\n",
       "      <td>0.00</td>\n",
       "    </tr>\n",
       "    <tr>\n",
       "      <th>device_protection_Yes</th>\n",
       "      <td>1.0</td>\n",
       "      <td>0.00</td>\n",
       "      <td>0.00</td>\n",
       "      <td>0.00</td>\n",
       "      <td>0.00</td>\n",
       "    </tr>\n",
       "    <tr>\n",
       "      <th>tech_support_Yes</th>\n",
       "      <td>0.0</td>\n",
       "      <td>0.00</td>\n",
       "      <td>0.00</td>\n",
       "      <td>1.00</td>\n",
       "      <td>0.00</td>\n",
       "    </tr>\n",
       "    <tr>\n",
       "      <th>streaming_tv_Yes</th>\n",
       "      <td>1.0</td>\n",
       "      <td>0.00</td>\n",
       "      <td>0.00</td>\n",
       "      <td>1.00</td>\n",
       "      <td>1.00</td>\n",
       "    </tr>\n",
       "    <tr>\n",
       "      <th>streaming_movies_Yes</th>\n",
       "      <td>1.0</td>\n",
       "      <td>0.00</td>\n",
       "      <td>0.00</td>\n",
       "      <td>1.00</td>\n",
       "      <td>1.00</td>\n",
       "    </tr>\n",
       "    <tr>\n",
       "      <th>paperless_billing_Yes</th>\n",
       "      <td>1.0</td>\n",
       "      <td>0.00</td>\n",
       "      <td>1.00</td>\n",
       "      <td>0.00</td>\n",
       "      <td>1.00</td>\n",
       "    </tr>\n",
       "    <tr>\n",
       "      <th>churn_Yes</th>\n",
       "      <td>0.0</td>\n",
       "      <td>0.00</td>\n",
       "      <td>1.00</td>\n",
       "      <td>0.00</td>\n",
       "      <td>0.00</td>\n",
       "    </tr>\n",
       "    <tr>\n",
       "      <th>internet_service_type_Fiber optic</th>\n",
       "      <td>1.0</td>\n",
       "      <td>0.00</td>\n",
       "      <td>0.00</td>\n",
       "      <td>1.00</td>\n",
       "      <td>1.00</td>\n",
       "    </tr>\n",
       "    <tr>\n",
       "      <th>internet_service_type_None</th>\n",
       "      <td>0.0</td>\n",
       "      <td>0.00</td>\n",
       "      <td>0.00</td>\n",
       "      <td>0.00</td>\n",
       "      <td>0.00</td>\n",
       "    </tr>\n",
       "    <tr>\n",
       "      <th>contract_type_One year</th>\n",
       "      <td>0.0</td>\n",
       "      <td>0.00</td>\n",
       "      <td>0.00</td>\n",
       "      <td>0.00</td>\n",
       "      <td>0.00</td>\n",
       "    </tr>\n",
       "    <tr>\n",
       "      <th>contract_type_Two year</th>\n",
       "      <td>1.0</td>\n",
       "      <td>0.00</td>\n",
       "      <td>0.00</td>\n",
       "      <td>1.00</td>\n",
       "      <td>0.00</td>\n",
       "    </tr>\n",
       "    <tr>\n",
       "      <th>payment_type_Credit card (automatic)</th>\n",
       "      <td>0.0</td>\n",
       "      <td>0.00</td>\n",
       "      <td>0.00</td>\n",
       "      <td>0.00</td>\n",
       "      <td>0.00</td>\n",
       "    </tr>\n",
       "    <tr>\n",
       "      <th>payment_type_Electronic check</th>\n",
       "      <td>1.0</td>\n",
       "      <td>0.00</td>\n",
       "      <td>1.00</td>\n",
       "      <td>0.00</td>\n",
       "      <td>0.00</td>\n",
       "    </tr>\n",
       "    <tr>\n",
       "      <th>payment_type_Mailed check</th>\n",
       "      <td>0.0</td>\n",
       "      <td>1.00</td>\n",
       "      <td>0.00</td>\n",
       "      <td>1.00</td>\n",
       "      <td>0.00</td>\n",
       "    </tr>\n",
       "  </tbody>\n",
       "</table>\n",
       "</div>"
      ],
      "text/plain": [
       "                                        6169     3290    3615     6309  \\\n",
       "tenure                                  72.0    28.00    5.00    39.00   \n",
       "monthly_charges                        105.5    49.90   24.95   100.55   \n",
       "total_charges                         7544.0  1410.25  100.40  3895.35   \n",
       "gender_Male                              0.0     0.00    1.00     1.00   \n",
       "senior_citizen_Yes                       0.0     0.00    0.00     0.00   \n",
       "partner_Yes                              1.0     1.00    1.00     0.00   \n",
       "dependents_Yes                           0.0     1.00    0.00     1.00   \n",
       "phone_service_Yes                        1.0     1.00    0.00     1.00   \n",
       "multiple_lines_Yes                       1.0     1.00    0.00     1.00   \n",
       "online_security_Yes                      1.0     0.00    0.00     0.00   \n",
       "online_backup_Yes                        0.0     0.00    0.00     0.00   \n",
       "device_protection_Yes                    1.0     0.00    0.00     0.00   \n",
       "tech_support_Yes                         0.0     0.00    0.00     1.00   \n",
       "streaming_tv_Yes                         1.0     0.00    0.00     1.00   \n",
       "streaming_movies_Yes                     1.0     0.00    0.00     1.00   \n",
       "paperless_billing_Yes                    1.0     0.00    1.00     0.00   \n",
       "churn_Yes                                0.0     0.00    1.00     0.00   \n",
       "internet_service_type_Fiber optic        1.0     0.00    0.00     1.00   \n",
       "internet_service_type_None               0.0     0.00    0.00     0.00   \n",
       "contract_type_One year                   0.0     0.00    0.00     0.00   \n",
       "contract_type_Two year                   1.0     0.00    0.00     1.00   \n",
       "payment_type_Credit card (automatic)     0.0     0.00    0.00     0.00   \n",
       "payment_type_Electronic check            1.0     0.00    1.00     0.00   \n",
       "payment_type_Mailed check                0.0     1.00    0.00     1.00   \n",
       "\n",
       "                                         856   \n",
       "tenure                                  45.00  \n",
       "monthly_charges                         93.90  \n",
       "total_charges                         4200.25  \n",
       "gender_Male                              1.00  \n",
       "senior_citizen_Yes                       1.00  \n",
       "partner_Yes                              0.00  \n",
       "dependents_Yes                           0.00  \n",
       "phone_service_Yes                        1.00  \n",
       "multiple_lines_Yes                       1.00  \n",
       "online_security_Yes                      0.00  \n",
       "online_backup_Yes                        0.00  \n",
       "device_protection_Yes                    0.00  \n",
       "tech_support_Yes                         0.00  \n",
       "streaming_tv_Yes                         1.00  \n",
       "streaming_movies_Yes                     1.00  \n",
       "paperless_billing_Yes                    1.00  \n",
       "churn_Yes                                0.00  \n",
       "internet_service_type_Fiber optic        1.00  \n",
       "internet_service_type_None               0.00  \n",
       "contract_type_One year                   0.00  \n",
       "contract_type_Two year                   0.00  \n",
       "payment_type_Credit card (automatic)     0.00  \n",
       "payment_type_Electronic check            0.00  \n",
       "payment_type_Mailed check                0.00  "
      ]
     },
     "execution_count": 26,
     "metadata": {},
     "output_type": "execute_result"
    }
   ],
   "source": [
    "# take a look at split\n",
    "train_encoded.head().T"
   ]
  },
  {
   "cell_type": "markdown",
   "id": "df9ee1c0-d98c-46b0-817d-658cdc4b6028",
   "metadata": {},
   "source": [
    "#### Takeaways:\n",
    "- data was successfully split using two functions from `prepare.py` module\n",
    "    - see code in `prepare.py` file in repo\n",
    "    - one split kept categorical variables as-is\n",
    "        - these splits will be used in exploration\n",
    "    - another split encoded all categorical variables so that only numbers appeared as values\n",
    "        - these splits will be used for modeling\n",
    "        - for these splits, all redundant columns were dropped (e.g. for 2 categories, 1 column remains, for 3 categories, 2 columns remain, etc.)\n",
    "    - `random state` was defined for all splits to ensure replicability"
   ]
  },
  {
   "cell_type": "markdown",
   "id": "9cb99308-a0eb-48d9-b271-8ce3325414be",
   "metadata": {},
   "source": [
    "---"
   ]
  },
  {
   "cell_type": "markdown",
   "id": "4b7f45b6-66b0-4c3c-8963-65c16a743f73",
   "metadata": {},
   "source": [
    "## Explore"
   ]
  },
  {
   "cell_type": "markdown",
   "id": "f128897b-3b62-445b-a9d3-79a3ddf4fb98",
   "metadata": {},
   "source": [
    "---"
   ]
  },
  {
   "cell_type": "markdown",
   "id": "930df076-a29e-421b-8b0d-ad7761e42bd6",
   "metadata": {},
   "source": [
    "### Univariate"
   ]
  },
  {
   "cell_type": "markdown",
   "id": "3579aa98-6faf-4ae1-9659-a7e4c7221d44",
   "metadata": {},
   "source": [
    "**Check univariate info to make sure resembles that of whole dataset to make sure split randomization and stratification worked properly**"
   ]
  },
  {
   "cell_type": "code",
   "execution_count": 27,
   "id": "e5b0c0d1-5dcd-4321-851b-33c86418af61",
   "metadata": {},
   "outputs": [],
   "source": [
    "# create a list of all numeric columns to use below in function\n",
    "quant_vars = train.select_dtypes(include = ['number']).columns.tolist()\n",
    "# quant_vars"
   ]
  },
  {
   "cell_type": "code",
   "execution_count": 28,
   "id": "799c8658-9ba0-458c-9515-17c2be69c527",
   "metadata": {},
   "outputs": [],
   "source": [
    "# create a list of all categorical columns to use below in function\n",
    "cat_vars = train.select_dtypes(include = 'object').columns.tolist()\n",
    "# cat_vars"
   ]
  },
  {
   "cell_type": "code",
   "execution_count": 29,
   "id": "3599ff05-4db6-429e-bd82-f7b37d651832",
   "metadata": {
    "scrolled": true,
    "tags": []
   },
   "outputs": [],
   "source": [
    "# use explore_univariate function from imported explore.py module to take a look at individual variables and compare results to those from from entire dataset\n",
    "# e.explore_univariate(train, cat_vars, quant_vars) \n",
    "# I am not going to reprint all these again for the presentation since it takes up a lot of real estate on the notebook"
   ]
  },
  {
   "cell_type": "markdown",
   "id": "aa721172-2ab0-46b5-bfea-b6f50b2aa0d9",
   "metadata": {},
   "source": [
    "#### Takeaways:\n",
    "- distributions looks similar, it appears split worked properly"
   ]
  },
  {
   "cell_type": "markdown",
   "id": "608902dd-3d8e-4243-9f97-1828541c35ea",
   "metadata": {},
   "source": [
    "---"
   ]
  },
  {
   "cell_type": "markdown",
   "id": "2e184ee8-2e9e-4818-9570-534d0fb82079",
   "metadata": {},
   "source": [
    "### Bivariate"
   ]
  },
  {
   "cell_type": "markdown",
   "id": "971d947c-89c9-4b25-b447-04e2a902b274",
   "metadata": {},
   "source": [
    "We will use our explore_bivariate(train, target, cat_vars, quant_vars) function that takes in a dataframe, the name of the binary target variable, a list of the names of the categorical variables, a list of the names of the quantitative variables. Each feature is analyzed with respect to the binary target variable. For each categorical variable, it returns the results from a chi-square test that is run and a barplot. For each quantitative variable, descriptive statistics are computed with respect to the target variable and boxen plots are created. Difference in means of the quantitative variables are tested between each class in the target using Mann-Whitney."
   ]
  },
  {
   "cell_type": "markdown",
   "id": "4e809852-4501-4ce8-aad1-33977aed1fec",
   "metadata": {},
   "source": [
    "**P value threshold for all statistical testing will be 0.05, meaning we will accept results as statistically significant if p < 0.05**"
   ]
  },
  {
   "cell_type": "markdown",
   "id": "8eeca6dd-ea62-469d-b5d4-67b81b8a83af",
   "metadata": {},
   "source": [
    "---"
   ]
  },
  {
   "cell_type": "markdown",
   "id": "96d4ed7c-fb1b-409c-9ace-e25c54225c86",
   "metadata": {},
   "source": [
    "#### Categorical"
   ]
  },
  {
   "cell_type": "markdown",
   "id": "d78840a3-0fc7-4612-8f95-1f2f5e80d121",
   "metadata": {},
   "source": [
    "**Chi Square Test between churn and all other categorial variables**"
   ]
  },
  {
   "cell_type": "code",
   "execution_count": 30,
   "id": "a055df36-8f1f-47d0-a5cf-8238ebb63830",
   "metadata": {},
   "outputs": [
    {
     "data": {
      "text/plain": [
       "'churn'"
      ]
     },
     "execution_count": 30,
     "metadata": {},
     "output_type": "execute_result"
    }
   ],
   "source": [
    "# we need to remove the target variable from our list of cat_vars\n",
    "cat_vars.pop(13)"
   ]
  },
  {
   "cell_type": "code",
   "execution_count": 31,
   "id": "20238a7d-1054-403c-b1c5-22d6e0d2e113",
   "metadata": {},
   "outputs": [],
   "source": [
    "# make a copy of train and modify target column since we need churn to be 1 or 0 for the function that will be used\n",
    "train_temp = train.copy()\n",
    "train_temp.churn = np.where(train_temp.churn == 'Yes', 1, 0)"
   ]
  },
  {
   "cell_type": "code",
   "execution_count": 32,
   "id": "4b32b6fe-d48a-4a62-8f47-94d11aeaf25b",
   "metadata": {
    "tags": []
   },
   "outputs": [
    {
     "name": "stdout",
     "output_type": "stream",
     "text": [
      "gender \n",
      "_____________________\n",
      "\n",
      "       chi2   p-value  degrees of freedom\n",
      "0  0.116092  0.733312                   1\n",
      "\n",
      "\n"
     ]
    },
    {
     "data": {
      "image/png": "[encoded data removed]",
      "text/plain": [
       "<Figure size 144x144 with 1 Axes>"
      ]
     },
     "metadata": {
      "needs_background": "light"
     },
     "output_type": "display_data"
    },
    {
     "name": "stdout",
     "output_type": "stream",
     "text": [
      "\n",
      "_____________________\n",
      "\n",
      "senior_citizen \n",
      "_____________________\n",
      "\n",
      "        chi2       p-value  degrees of freedom\n",
      "0  126.71297  2.146819e-29                   1\n",
      "\n",
      "\n"
     ]
    },
    {
     "data": {
      "image/png": "[encoded data removed]",
      "text/plain": [
       "<Figure size 144x144 with 1 Axes>"
      ]
     },
     "metadata": {
      "needs_background": "light"
     },
     "output_type": "display_data"
    },
    {
     "name": "stdout",
     "output_type": "stream",
     "text": [
      "\n",
      "_____________________\n",
      "\n",
      "partner \n",
      "_____________________\n",
      "\n",
      "        chi2       p-value  degrees of freedom\n",
      "0  85.438559  2.390140e-20                   1\n",
      "\n",
      "\n"
     ]
    },
    {
     "data": {
      "image/png": "[encoded data removed]",
      "text/plain": [
       "<Figure size 144x144 with 1 Axes>"
      ]
     },
     "metadata": {
      "needs_background": "light"
     },
     "output_type": "display_data"
    },
    {
     "name": "stdout",
     "output_type": "stream",
     "text": [
      "\n",
      "_____________________\n",
      "\n",
      "dependents \n",
      "_____________________\n",
      "\n",
      "         chi2       p-value  degrees of freedom\n",
      "0  125.315832  4.340610e-29                   1\n",
      "\n",
      "\n"
     ]
    },
    {
     "data": {
      "image/png": "[encoded data removed]",
      "text/plain": [
       "<Figure size 144x144 with 1 Axes>"
      ]
     },
     "metadata": {
      "needs_background": "light"
     },
     "output_type": "display_data"
    },
    {
     "name": "stdout",
     "output_type": "stream",
     "text": [
      "\n",
      "_____________________\n",
      "\n",
      "phone_service \n",
      "_____________________\n",
      "\n",
      "       chi2   p-value  degrees of freedom\n",
      "0  1.837203  0.175279                   1\n",
      "\n",
      "\n"
     ]
    },
    {
     "data": {
      "image/png": "[encoded data removed]",
      "text/plain": [
       "<Figure size 144x144 with 1 Axes>"
      ]
     },
     "metadata": {
      "needs_background": "light"
     },
     "output_type": "display_data"
    },
    {
     "name": "stdout",
     "output_type": "stream",
     "text": [
      "\n",
      "_____________________\n",
      "\n",
      "multiple_lines \n",
      "_____________________\n",
      "\n",
      "        chi2   p-value  degrees of freedom\n",
      "0  11.507626  0.000693                   1\n",
      "\n",
      "\n"
     ]
    },
    {
     "data": {
      "image/png": "[encoded data removed]",
      "text/plain": [
       "<Figure size 144x144 with 1 Axes>"
      ]
     },
     "metadata": {
      "needs_background": "light"
     },
     "output_type": "display_data"
    },
    {
     "name": "stdout",
     "output_type": "stream",
     "text": [
      "\n",
      "_____________________\n",
      "\n",
      "online_security \n",
      "_____________________\n",
      "\n",
      "        chi2       p-value  degrees of freedom\n",
      "0  122.15068  2.139555e-28                   1\n",
      "\n",
      "\n"
     ]
    },
    {
     "data": {
      "image/png": "[encoded data removed]",
      "text/plain": [
       "<Figure size 144x144 with 1 Axes>"
      ]
     },
     "metadata": {
      "needs_background": "light"
     },
     "output_type": "display_data"
    },
    {
     "name": "stdout",
     "output_type": "stream",
     "text": [
      "\n",
      "_____________________\n",
      "\n",
      "online_backup \n",
      "_____________________\n",
      "\n",
      "        chi2       p-value  degrees of freedom\n",
      "0  28.759295  8.195561e-08                   1\n",
      "\n",
      "\n"
     ]
    },
    {
     "data": {
      "image/png": "[encoded data removed]",
      "text/plain": [
       "<Figure size 144x144 with 1 Axes>"
      ]
     },
     "metadata": {
      "needs_background": "light"
     },
     "output_type": "display_data"
    },
    {
     "name": "stdout",
     "output_type": "stream",
     "text": [
      "\n",
      "_____________________\n",
      "\n",
      "device_protection \n",
      "_____________________\n",
      "\n",
      "        chi2   p-value  degrees of freedom\n",
      "0  21.827182  0.000003                   1\n",
      "\n",
      "\n"
     ]
    },
    {
     "data": {
      "image/png": "[encoded data removed]",
      "text/plain": [
       "<Figure size 144x144 with 1 Axes>"
      ]
     },
     "metadata": {
      "needs_background": "light"
     },
     "output_type": "display_data"
    },
    {
     "name": "stdout",
     "output_type": "stream",
     "text": [
      "\n",
      "_____________________\n",
      "\n",
      "tech_support \n",
      "_____________________\n",
      "\n",
      "         chi2       p-value  degrees of freedom\n",
      "0  114.193717  1.181803e-26                   1\n",
      "\n",
      "\n"
     ]
    },
    {
     "data": {
      "image/png": "[encoded data removed]",
      "text/plain": [
       "<Figure size 144x144 with 1 Axes>"
      ]
     },
     "metadata": {
      "needs_background": "light"
     },
     "output_type": "display_data"
    },
    {
     "name": "stdout",
     "output_type": "stream",
     "text": [
      "\n",
      "_____________________\n",
      "\n",
      "streaming_tv \n",
      "_____________________\n",
      "\n",
      "        chi2   p-value  degrees of freedom\n",
      "0  18.401119  0.000018                   1\n",
      "\n",
      "\n"
     ]
    },
    {
     "data": {
      "image/png": "[encoded data removed]",
      "text/plain": [
       "<Figure size 144x144 with 1 Axes>"
      ]
     },
     "metadata": {
      "needs_background": "light"
     },
     "output_type": "display_data"
    },
    {
     "name": "stdout",
     "output_type": "stream",
     "text": [
      "\n",
      "_____________________\n",
      "\n",
      "streaming_movies \n",
      "_____________________\n",
      "\n",
      "        chi2   p-value  degrees of freedom\n",
      "0  13.076863  0.000299                   1\n",
      "\n",
      "\n"
     ]
    },
    {
     "data": {
      "image/png": "[encoded data removed]",
      "text/plain": [
       "<Figure size 144x144 with 1 Axes>"
      ]
     },
     "metadata": {
      "needs_background": "light"
     },
     "output_type": "display_data"
    },
    {
     "name": "stdout",
     "output_type": "stream",
     "text": [
      "\n",
      "_____________________\n",
      "\n",
      "paperless_billing \n",
      "_____________________\n",
      "\n",
      "         chi2       p-value  degrees of freedom\n",
      "0  148.148111  4.403064e-34                   1\n",
      "\n",
      "\n"
     ]
    },
    {
     "data": {
      "image/png": "[encoded data removed]",
      "text/plain": [
       "<Figure size 144x144 with 1 Axes>"
      ]
     },
     "metadata": {
      "needs_background": "light"
     },
     "output_type": "display_data"
    },
    {
     "name": "stdout",
     "output_type": "stream",
     "text": [
      "\n",
      "_____________________\n",
      "\n",
      "internet_service_type \n",
      "_____________________\n",
      "\n",
      "         chi2       p-value  degrees of freedom\n",
      "0  440.801802  1.910315e-96                   2\n",
      "\n",
      "\n"
     ]
    },
    {
     "data": {
      "image/png": "[encoded data removed]",
      "text/plain": [
       "<Figure size 144x144 with 1 Axes>"
      ]
     },
     "metadata": {
      "needs_background": "light"
     },
     "output_type": "display_data"
    },
    {
     "name": "stdout",
     "output_type": "stream",
     "text": [
      "\n",
      "_____________________\n",
      "\n",
      "contract_type \n",
      "_____________________\n",
      "\n",
      "         chi2        p-value  degrees of freedom\n",
      "0  673.953198  4.496997e-147                   2\n",
      "\n",
      "\n"
     ]
    },
    {
     "data": {
      "image/png": "[encoded data removed]",
      "text/plain": [
       "<Figure size 144x144 with 1 Axes>"
      ]
     },
     "metadata": {
      "needs_background": "light"
     },
     "output_type": "display_data"
    },
    {
     "name": "stdout",
     "output_type": "stream",
     "text": [
      "\n",
      "_____________________\n",
      "\n",
      "payment_type \n",
      "_____________________\n",
      "\n",
      "         chi2       p-value  degrees of freedom\n",
      "0  412.264701  4.880175e-89                   3\n",
      "\n",
      "\n"
     ]
    },
    {
     "data": {
      "image/png": "[encoded data removed]",
      "text/plain": [
       "<Figure size 144x144 with 1 Axes>"
      ]
     },
     "metadata": {
      "needs_background": "light"
     },
     "output_type": "display_data"
    },
    {
     "name": "stdout",
     "output_type": "stream",
     "text": [
      "\n",
      "_____________________\n",
      "\n"
     ]
    }
   ],
   "source": [
    "# run chi^2 test for all cat vars and target and plot comparison\n",
    "for cat in cat_vars:\n",
    "    e.explore_bivariate_categorical(train_temp, 'churn', cat)"
   ]
  },
  {
   "cell_type": "code",
   "execution_count": 33,
   "id": "9c340c25-2f16-4580-ac04-372e5a532231",
   "metadata": {},
   "outputs": [
    {
     "name": "stdout",
     "output_type": "stream",
     "text": [
      "Null Hypotheses:\n",
      "1. H_0: Churn is independent of gender\n",
      "2. H_0: Churn is independent of senior_citizen\n",
      "3. H_0: Churn is independent of partner\n",
      "4. H_0: Churn is independent of dependents\n",
      "5. H_0: Churn is independent of phone_service\n",
      "6. H_0: Churn is independent of multiple_lines\n",
      "7. H_0: Churn is independent of online_security\n",
      "8. H_0: Churn is independent of online_backup\n",
      "9. H_0: Churn is independent of device_protection\n",
      "10. H_0: Churn is independent of tech_support\n",
      "11. H_0: Churn is independent of streaming_tv\n",
      "12. H_0: Churn is independent of streaming_movies\n",
      "13. H_0: Churn is independent of paperless_billing\n",
      "14. H_0: Churn is independent of internet_service_type\n",
      "15. H_0: Churn is independent of contract_type\n",
      "16. H_0: Churn is independent of payment_type\n"
     ]
    }
   ],
   "source": [
    "# create null hypotheses\n",
    "counter = 1\n",
    "\n",
    "print('Null Hypotheses:')\n",
    "for cat in cat_vars:\n",
    "    print(f'{counter}. H_0: Churn is independent of {cat}')\n",
    "    counter += 1"
   ]
  },
  {
   "cell_type": "code",
   "execution_count": 34,
   "id": "7385ea21-413a-4b6e-909c-75dbe5218f2d",
   "metadata": {},
   "outputs": [
    {
     "name": "stdout",
     "output_type": "stream",
     "text": [
      "Alternative Hypotheses:\n",
      "1. H_0: Churn is not independent of gender\n",
      "2. H_0: Churn is not independent of senior_citizen\n",
      "3. H_0: Churn is not independent of partner\n",
      "4. H_0: Churn is not independent of dependents\n",
      "5. H_0: Churn is not independent of phone_service\n",
      "6. H_0: Churn is not independent of multiple_lines\n",
      "7. H_0: Churn is not independent of online_security\n",
      "8. H_0: Churn is not independent of online_backup\n",
      "9. H_0: Churn is not independent of device_protection\n",
      "10. H_0: Churn is not independent of tech_support\n",
      "11. H_0: Churn is not independent of streaming_tv\n",
      "12. H_0: Churn is not independent of streaming_movies\n",
      "13. H_0: Churn is not independent of paperless_billing\n",
      "14. H_0: Churn is not independent of internet_service_type\n",
      "15. H_0: Churn is not independent of contract_type\n",
      "16. H_0: Churn is not independent of payment_type\n"
     ]
    }
   ],
   "source": [
    "# create null hypotheses\n",
    "counter = 1\n",
    "\n",
    "print('Alternative Hypotheses:')\n",
    "for cat in cat_vars:\n",
    "    print(f'{counter}. H_0: Churn is not independent of {cat}')\n",
    "    counter += 1"
   ]
  },
  {
   "cell_type": "markdown",
   "id": "96784f93-4bbd-4935-847a-01b32cee7f38",
   "metadata": {},
   "source": [
    "**Conclusions:**\n",
    "1. We **fail to reject the null**, evidence suggests that `gender` is independent of `churn`\n",
    "2. We **reject the null**, evidence suggests that `senior_citizen` is not independent of `churn`\n",
    "3. We **reject the null**, evidence suggests that `partner` is not independent of `churn`\n",
    "4. We **reject the null**, evidence suggests that `dependents` is not independent of `churn`\n",
    "5. We **fail to reject the null**, evidence suggests that `phone_service` is independent of `churn`\n",
    "6. We **reject the null**, evidence suggests that `multiple_lines` is not independent of `churn`\n",
    "7. We **reject the null**, evidence suggests that `online_security` is not independent of `churn`\n",
    "8. We **reject the null**, evidence suggests that `online_backup` is not independent of `churn`\n",
    "9. We **reject the null**, evidence suggests that `device_protection` is not independent of `churn`\n",
    "10. We **reject the null**, evidence suggests that `tech_support` is not independent of `churn`\n",
    "11. We **reject the null**, evidence suggests that `streaming_tv` is not independent of `churn`\n",
    "12. We **reject the null**, evidence suggests that `streaming_movies` is not independent of `churn`\n",
    "13. We **reject the null**, evidence suggests that `paperless_billing` is not independent of `churn`\n",
    "14. We **reject the null**, evidence suggests that `internet_service_type` is not independent of `churn`\n",
    "15. We **reject the null**, evidence suggests that `contract_type` is not independent of `churn`\n",
    "16. We **reject the null**, evidence suggests that `payment_type` is not independent of `churn`"
   ]
  },
  {
   "cell_type": "markdown",
   "id": "ed5c20f0-cf00-4685-b2e2-68b0a92ffb76",
   "metadata": {},
   "source": [
    "##### Takeaways:\n",
    "- All categorical columns except `gender` and `phone_service` will be used to predict target due to evidence suggesting all others are not independent of `churn` and therefore they could be considered drivers"
   ]
  },
  {
   "cell_type": "markdown",
   "id": "ca1d24f7-c2f5-48fd-aa87-6b1dfa666d86",
   "metadata": {},
   "source": [
    "---"
   ]
  },
  {
   "cell_type": "markdown",
   "id": "97c77e4b-dd2f-407a-a5f8-9972d8a3fa8b",
   "metadata": {},
   "source": [
    "#### Numerical"
   ]
  },
  {
   "cell_type": "markdown",
   "id": "8eabae52-2b86-4d6c-8ec8-5b9a079e0a3e",
   "metadata": {},
   "source": [
    "**For each quantitative column and churn subgroup, we will display a boxen plot, summary statistics, and the results of a Mann-Whitney Test to compare means**"
   ]
  },
  {
   "cell_type": "code",
   "execution_count": 35,
   "id": "081ab106-9d9d-419d-b00c-db39f814cab4",
   "metadata": {
    "tags": []
   },
   "outputs": [
    {
     "name": "stdout",
     "output_type": "stream",
     "text": [
      "tenure \n",
      "____________________\n",
      "\n"
     ]
    },
    {
     "data": {
      "image/png": "[encoded data removed]",
      "text/plain": [
       "<Figure size 288x288 with 1 Axes>"
      ]
     },
     "metadata": {
      "needs_background": "light"
     },
     "output_type": "display_data"
    },
    {
     "name": "stdout",
     "output_type": "stream",
     "text": [
      "        count       mean        std  min   25%   50%    75%   max\n",
      "churn                                                            \n",
      "0      3104.0  37.432990  24.087859  0.0  15.0  37.0  60.25  72.0\n",
      "1      1121.0  18.036574  19.485285  1.0   2.0  10.0  29.00  72.0 \n",
      "\n",
      "\n",
      "Mann-Whitney Test:\n",
      " MannwhitneyuResult(statistic=2566280.0, pvalue=2.2758832595981456e-123)\n",
      "\n",
      "____________________\n",
      "\n",
      "monthly_charges \n",
      "____________________\n",
      "\n"
     ]
    },
    {
     "data": {
      "image/png": "[encoded data removed]",
      "text/plain": [
       "<Figure size 288x288 with 1 Axes>"
      ]
     },
     "metadata": {
      "needs_background": "light"
     },
     "output_type": "display_data"
    },
    {
     "name": "stdout",
     "output_type": "stream",
     "text": [
      "        count       mean        std    min   25%    50%   75%     max\n",
      "churn                                                                \n",
      "0      3104.0  61.755751  31.071276  18.25  25.1  65.25  89.0  118.75\n",
      "1      1121.0  75.056646  24.435249  18.95  60.4  79.90  94.2  117.80 \n",
      "\n",
      "\n",
      "Mann-Whitney Test:\n",
      " MannwhitneyuResult(statistic=1313871.5, pvalue=4.646157723850262e-34)\n",
      "\n",
      "____________________\n",
      "\n",
      "total_charges \n",
      "____________________\n",
      "\n"
     ]
    },
    {
     "data": {
      "image/png": "[encoded data removed]",
      "text/plain": [
       "<Figure size 288x288 with 1 Axes>"
      ]
     },
     "metadata": {
      "needs_background": "light"
     },
     "output_type": "display_data"
    },
    {
     "name": "stdout",
     "output_type": "stream",
     "text": [
      "        count         mean          std   min       25%      50%        75%  \\\n",
      "churn                                                                         \n",
      "0      3104.0  2565.274887  2330.960610   0.0  578.1625  1724.05  4264.4375   \n",
      "1      1121.0  1546.124532  1883.590483  19.1  135.0000   723.40  2354.8000   \n",
      "\n",
      "           max  \n",
      "churn           \n",
      "0      8672.45  \n",
      "1      8684.80   \n",
      "\n",
      "\n",
      "Mann-Whitney Test:\n",
      " MannwhitneyuResult(statistic=2254399.0, pvalue=6.381351636087388e-49)\n",
      "\n",
      "____________________\n",
      "\n"
     ]
    }
   ],
   "source": [
    "# lets try this for numerical bivariate\n",
    "for var in quant_vars:\n",
    "    e.explore_bivariate_quant(train_temp, 'churn', var)"
   ]
  },
  {
   "cell_type": "code",
   "execution_count": 37,
   "id": "7fe28efd-c9a7-408c-977c-d093ce28eaf6",
   "metadata": {},
   "outputs": [
    {
     "name": "stdout",
     "output_type": "stream",
     "text": [
      "Null Hypotheses:\n",
      "1. H_0: Mean tenure values are equal for churn subgroups\n",
      "2. H_0: Mean monthly_charges values are equal for churn subgroups\n",
      "3. H_0: Mean total_charges values are equal for churn subgroups\n"
     ]
    }
   ],
   "source": [
    "# create null hypotheses\n",
    "counter = 1\n",
    "\n",
    "print('Null Hypotheses:')\n",
    "for var in quant_vars:\n",
    "    print(f'{counter}. H_0: Mean {var} values are equal for churn subgroups')\n",
    "    counter += 1"
   ]
  },
  {
   "cell_type": "code",
   "execution_count": 38,
   "id": "a26b1600-a573-45aa-93a3-1da503d76731",
   "metadata": {},
   "outputs": [
    {
     "name": "stdout",
     "output_type": "stream",
     "text": [
      "Alternative Hypotheses:\n",
      "1. H_a: Mean tenure values are not equal for churn subgroups\n",
      "2. H_a: Mean monthly_charges values are not equal for churn subgroups\n",
      "3. H_a: Mean total_charges values are not equal for churn subgroups\n"
     ]
    }
   ],
   "source": [
    "# create alternative hypotheses\n",
    "counter = 1\n",
    "\n",
    "print('Alternative Hypotheses:')\n",
    "for var in quant_vars:\n",
    "    print(f'{counter}. H_a: Mean {var} values are not equal for churn subgroups')\n",
    "    counter += 1"
   ]
  },
  {
   "cell_type": "markdown",
   "id": "f5f7486a-95ce-4b0d-b5e1-cff7cc83707f",
   "metadata": {},
   "source": [
    "**Conclusions:**\n",
    "1. We **reject the null**, evidence suggests that mean `tenure` values are different for `churn` subgroups\n",
    "2. We **reject the null**, evidence suggests that mean `monthly_charges` values are different for `churn` subgroups\n",
    "3. We **reject the null**, evidence suggests that mean `total_charges` values are different for `churn` subgroups"
   ]
  },
  {
   "cell_type": "markdown",
   "id": "79ca3e52-bb9d-45f8-b4a9-b54f01949510",
   "metadata": {},
   "source": [
    "##### Takeaways:\n",
    "- All quantitative columns will be used to predict the target since the differences in the mean values for the `churn` subgroups are statistically significant"
   ]
  },
  {
   "cell_type": "markdown",
   "id": "447351f1-e5d2-4d12-9eda-bdae05cc7c61",
   "metadata": {},
   "source": [
    "---"
   ]
  },
  {
   "cell_type": "markdown",
   "id": "f9912625-aff9-4d37-a371-9551e79f57e1",
   "metadata": {},
   "source": [
    "### Multivariate"
   ]
  },
  {
   "cell_type": "markdown",
   "id": "39a2f655-0740-492b-ac1f-766853e41567",
   "metadata": {},
   "source": [
    "Let's take a look at how continuous variables interact with each other and the target variable."
   ]
  },
  {
   "cell_type": "code",
   "execution_count": 39,
   "id": "0e0ec512-53fa-4a9f-ac20-5394e71f5218",
   "metadata": {},
   "outputs": [
    {
     "data": {
      "image/png": "[encoded data removed]",
      "text/plain": [
       "<Figure size 585.725x540 with 12 Axes>"
      ]
     },
     "metadata": {},
     "output_type": "display_data"
    }
   ],
   "source": [
    "pair = sns.pairplot(data=train_temp, vars=quant_vars, hue=\"churn\")\n",
    "plt.show()"
   ]
  },
  {
   "cell_type": "markdown",
   "id": "ca461b25-f56e-4ac5-bf4b-f8754b9806d2",
   "metadata": {},
   "source": [
    "#### Takeaways:\n",
    "- Most customers are churning early on in their tenure\n",
    "- Most churn occurs among customers with low tenure and high monthly charges\n",
    "- Distribution of monthly charges for those that churn and don't churn is similar except for more non-churning customers having lower monthly charges (spike at left side)\n",
    "- Most churn occurs with low total charges (low tenure) and high monthly charges\n",
    "- The distributions of total charges for those that churn and those that don't are similar\n",
    "- Most of our customers have low total charges, but we have a good amount that have high tenure, so a good portion of our loyal customers must have very low monthly charges (very simple, inexpensive plans)\n",
    "- **These observations won't be used to choose features for the model at this time, but could be used to create new features or to simply provide recommendations to the stakeholder on customer groups to target moving forward**\n",
    "    - These observations could also be used to engineer new features for future projects"
   ]
  },
  {
   "cell_type": "markdown",
   "id": "349d0b32-c92a-4b1d-aa3d-5e7832b31de9",
   "metadata": {},
   "source": [
    "---"
   ]
  },
  {
   "cell_type": "markdown",
   "id": "eeac692b-346a-44af-9be1-7e8afc46c2ab",
   "metadata": {},
   "source": [
    "## Model/Evaluate"
   ]
  },
  {
   "cell_type": "markdown",
   "id": "59d83898-ced7-45c7-96ef-cef2a1e204e7",
   "metadata": {},
   "source": [
    "---"
   ]
  },
  {
   "cell_type": "markdown",
   "id": "4b956c9b-f2e2-4c35-ad7a-312d6879a383",
   "metadata": {},
   "source": [
    "- **Accuracy will be used to evaluate all models**\n",
    "- **A difference of 0.05 between test and validate accuracy will be threshold for overfit**"
   ]
  },
  {
   "cell_type": "markdown",
   "id": "1004b5b0-4319-497b-80cf-ba36422b89ff",
   "metadata": {},
   "source": [
    "#### Baseline"
   ]
  },
  {
   "cell_type": "code",
   "execution_count": 40,
   "id": "c6251189-2127-4c21-bc39-cc5b767187c6",
   "metadata": {},
   "outputs": [
    {
     "data": {
      "text/plain": [
       "0    0.734675\n",
       "1    0.265325\n",
       "Name: churn_Yes, dtype: float64"
      ]
     },
     "execution_count": 40,
     "metadata": {},
     "output_type": "execute_result"
    }
   ],
   "source": [
    "# we will set our baseline to the most common churn outcome observed in train dataset\n",
    "train_encoded.churn_Yes.value_counts(normalize=True)"
   ]
  },
  {
   "cell_type": "code",
   "execution_count": 41,
   "id": "9f073c4d-cc1a-4116-9e20-ac87c1149a96",
   "metadata": {},
   "outputs": [
    {
     "name": "stdout",
     "output_type": "stream",
     "text": [
      "Baseline accuracy is we predicted that no customers churn, this accuracy would be: 0.73.\n"
     ]
    }
   ],
   "source": [
    "print(f'Baseline accuracy is we predicted that no customers churn, this accuracy would be: {round(train_encoded.churn_Yes.value_counts(normalize=True)[0],2)}.')"
   ]
  },
  {
   "cell_type": "markdown",
   "id": "59b4404f-bcb3-4f05-a4c3-7f07e72abadb",
   "metadata": {},
   "source": [
    "#### X and y"
   ]
  },
  {
   "cell_type": "code",
   "execution_count": 42,
   "id": "87c979f7-35ed-442c-9a30-9d3c3b1cd4a7",
   "metadata": {},
   "outputs": [],
   "source": [
    "# create X & y version of train, where y is a series with just the target variable and X are all the features. \n",
    "\n",
    "X_train = train_encoded.drop(columns=['churn_Yes', 'gender_Male', 'phone_service_Yes'])\n",
    "y_train = train_encoded.churn_Yes\n",
    "\n",
    "X_validate = validate_encoded.drop(columns=['churn_Yes', 'gender_Male', 'phone_service_Yes'])\n",
    "y_validate = validate_encoded.churn_Yes\n",
    "\n",
    "X_test = test_encoded.drop(columns=['churn_Yes', 'gender_Male', 'phone_service_Yes'])\n",
    "y_test = test_encoded.churn_Yes"
   ]
  },
  {
   "cell_type": "code",
   "execution_count": 43,
   "id": "48de0a76-420e-4c3f-aa7f-2fb473f50f75",
   "metadata": {},
   "outputs": [
    {
     "name": "stdout",
     "output_type": "stream",
     "text": [
      "Proportion of train: 0.60\n",
      "Proportion of validate: 0.20\n",
      "Proportion of test: 0.20\n"
     ]
    }
   ],
   "source": [
    "# check proportions of splits\n",
    "print(f'Proportion of train: {X_train.shape[0]/df.shape[0]:.2f}')\n",
    "print(f'Proportion of validate: {X_validate.shape[0]/df.shape[0]:.2f}')\n",
    "print(f'Proportion of test: {X_test.shape[0]/df.shape[0]:.2f}')"
   ]
  },
  {
   "cell_type": "markdown",
   "id": "5bc4d930-537b-4379-b33c-c33508616bd5",
   "metadata": {},
   "source": [
    "---"
   ]
  },
  {
   "cell_type": "markdown",
   "id": "e6aaab7d-dffb-449c-a006-41f260433d3c",
   "metadata": {},
   "source": [
    "### Decision Tree"
   ]
  },
  {
   "cell_type": "markdown",
   "id": "29c0a07b-d690-4a77-a66a-5b46972a2119",
   "metadata": {},
   "source": [
    "**Compare max depths using for loop**"
   ]
  },
  {
   "cell_type": "code",
   "execution_count": 44,
   "id": "1ac00c3a-a4b6-480d-bf05-2df2b5121cf2",
   "metadata": {},
   "outputs": [
    {
     "data": {
      "text/html": [
       "<div>\n",
       "<style scoped>\n",
       "    .dataframe tbody tr th:only-of-type {\n",
       "        vertical-align: middle;\n",
       "    }\n",
       "\n",
       "    .dataframe tbody tr th {\n",
       "        vertical-align: top;\n",
       "    }\n",
       "\n",
       "    .dataframe thead th {\n",
       "        text-align: right;\n",
       "    }\n",
       "</style>\n",
       "<table border=\"1\" class=\"dataframe\">\n",
       "  <thead>\n",
       "    <tr style=\"text-align: right;\">\n",
       "      <th></th>\n",
       "      <th>train_accuracy</th>\n",
       "      <th>validate_accuracy</th>\n",
       "      <th>difference</th>\n",
       "    </tr>\n",
       "    <tr>\n",
       "      <th>max_depth</th>\n",
       "      <th></th>\n",
       "      <th></th>\n",
       "      <th></th>\n",
       "    </tr>\n",
       "  </thead>\n",
       "  <tbody>\n",
       "    <tr>\n",
       "      <th>1</th>\n",
       "      <td>0.734675</td>\n",
       "      <td>0.734564</td>\n",
       "      <td>0.000</td>\n",
       "    </tr>\n",
       "    <tr>\n",
       "      <th>2</th>\n",
       "      <td>0.793373</td>\n",
       "      <td>0.783534</td>\n",
       "      <td>0.010</td>\n",
       "    </tr>\n",
       "    <tr>\n",
       "      <th>3</th>\n",
       "      <td>0.793373</td>\n",
       "      <td>0.783534</td>\n",
       "      <td>0.010</td>\n",
       "    </tr>\n",
       "    <tr>\n",
       "      <th>4</th>\n",
       "      <td>0.800947</td>\n",
       "      <td>0.777857</td>\n",
       "      <td>0.023</td>\n",
       "    </tr>\n",
       "    <tr>\n",
       "      <th>5</th>\n",
       "      <td>0.804497</td>\n",
       "      <td>0.784954</td>\n",
       "      <td>0.020</td>\n",
       "    </tr>\n",
       "    <tr>\n",
       "      <th>6</th>\n",
       "      <td>0.816331</td>\n",
       "      <td>0.787083</td>\n",
       "      <td>0.029</td>\n",
       "    </tr>\n",
       "    <tr>\n",
       "      <th>7</th>\n",
       "      <td>0.829822</td>\n",
       "      <td>0.794180</td>\n",
       "      <td>0.036</td>\n",
       "    </tr>\n",
       "    <tr>\n",
       "      <th>8</th>\n",
       "      <td>0.846627</td>\n",
       "      <td>0.787793</td>\n",
       "      <td>0.059</td>\n",
       "    </tr>\n",
       "    <tr>\n",
       "      <th>9</th>\n",
       "      <td>0.866509</td>\n",
       "      <td>0.775727</td>\n",
       "      <td>0.091</td>\n",
       "    </tr>\n",
       "    <tr>\n",
       "      <th>10</th>\n",
       "      <td>0.880710</td>\n",
       "      <td>0.765791</td>\n",
       "      <td>0.115</td>\n",
       "    </tr>\n",
       "  </tbody>\n",
       "</table>\n",
       "</div>"
      ],
      "text/plain": [
       "           train_accuracy  validate_accuracy  difference\n",
       "max_depth                                               \n",
       "1                0.734675           0.734564       0.000\n",
       "2                0.793373           0.783534       0.010\n",
       "3                0.793373           0.783534       0.010\n",
       "4                0.800947           0.777857       0.023\n",
       "5                0.804497           0.784954       0.020\n",
       "6                0.816331           0.787083       0.029\n",
       "7                0.829822           0.794180       0.036\n",
       "8                0.846627           0.787793       0.059\n",
       "9                0.866509           0.775727       0.091\n",
       "10               0.880710           0.765791       0.115"
      ]
     },
     "execution_count": 44,
     "metadata": {},
     "output_type": "execute_result"
    },
    {
     "data": {
      "image/png": "[encoded data removed]",
      "text/plain": [
       "<Figure size 864x288 with 1 Axes>"
      ]
     },
     "metadata": {},
     "output_type": "display_data"
    }
   ],
   "source": [
    "# Let's compare in-sample to out-of-sample for different max depths using a for loop\n",
    "metrics = []\n",
    "\n",
    "for i in range(1, 11):\n",
    "    # Make the model\n",
    "    tree = DecisionTreeClassifier(max_depth=i, random_state=123)\n",
    "\n",
    "    # Fit the model (on train and only train)\n",
    "    tree = tree.fit(X_train, y_train)\n",
    "\n",
    "    # Use the model\n",
    "    # We'll evaluate the model's performance on train, first\n",
    "    in_sample_accuracy = tree.score(X_train, y_train)\n",
    "    \n",
    "    out_of_sample_accuracy = tree.score(X_validate, y_validate)\n",
    "\n",
    "    output = {\n",
    "        \"max_depth\": i,\n",
    "        \"train_accuracy\": in_sample_accuracy,\n",
    "        \"validate_accuracy\": out_of_sample_accuracy\n",
    "    }\n",
    "    \n",
    "    metrics.append(output)\n",
    "    \n",
    "df = pd.DataFrame(metrics)\n",
    "\n",
    "# plot the data\n",
    "df.set_index('max_depth', inplace=True)\n",
    "df.plot(figsize = (12,4))\n",
    "plt.ylabel('Accuracy')\n",
    "plt.xticks(np.arange(0,11,1))\n",
    "plt.grid(b=True)\n",
    "plt.title('Validate Accuracy is Best and Overfitting in Minimized when max_depth = 7')\n",
    "\n",
    "\n",
    "df[\"difference\"] = round(df.train_accuracy - df.validate_accuracy, 3)\n",
    "df"
   ]
  },
  {
   "cell_type": "markdown",
   "id": "1fe9514a-5f18-4386-aa45-3c6085f4195d",
   "metadata": {},
   "source": [
    "#### Takeaways:\n",
    "- Best max depth value without crossing threshold for overfit is `7`\n",
    "    - Accuracy for this model when evaluated on train is: `0.830`\n",
    "    - Accuracy for this model when evaluated on validate is: `0.794`"
   ]
  },
  {
   "cell_type": "markdown",
   "id": "50d90ab5-3fc6-47bf-9355-620481eb2cf9",
   "metadata": {},
   "source": [
    "---"
   ]
  },
  {
   "cell_type": "markdown",
   "id": "4113145a-1818-4e32-86df-72b75ebfc317",
   "metadata": {},
   "source": [
    "### Random Forest"
   ]
  },
  {
   "cell_type": "markdown",
   "id": "7902de32-35be-4dbf-80e6-802702861fe6",
   "metadata": {},
   "source": [
    "**Compare max depths using for loop**\n",
    "- After experimenting with max depth, min samples per leaf, n estimators, it was discovered that highest accuracy with least amount of overfitting was achieved when only modifying max depth"
   ]
  },
  {
   "cell_type": "code",
   "execution_count": 45,
   "id": "0de7a5a4-e7ff-4c75-8ee5-858c362ae568",
   "metadata": {},
   "outputs": [
    {
     "data": {
      "text/html": [
       "<div>\n",
       "<style scoped>\n",
       "    .dataframe tbody tr th:only-of-type {\n",
       "        vertical-align: middle;\n",
       "    }\n",
       "\n",
       "    .dataframe tbody tr th {\n",
       "        vertical-align: top;\n",
       "    }\n",
       "\n",
       "    .dataframe thead th {\n",
       "        text-align: right;\n",
       "    }\n",
       "</style>\n",
       "<table border=\"1\" class=\"dataframe\">\n",
       "  <thead>\n",
       "    <tr style=\"text-align: right;\">\n",
       "      <th></th>\n",
       "      <th>train_accuracy</th>\n",
       "      <th>validate_accuracy</th>\n",
       "      <th>difference</th>\n",
       "    </tr>\n",
       "    <tr>\n",
       "      <th>max_depth</th>\n",
       "      <th></th>\n",
       "      <th></th>\n",
       "      <th></th>\n",
       "    </tr>\n",
       "  </thead>\n",
       "  <tbody>\n",
       "    <tr>\n",
       "      <th>1</th>\n",
       "      <td>0.734675</td>\n",
       "      <td>0.734564</td>\n",
       "      <td>0.000</td>\n",
       "    </tr>\n",
       "    <tr>\n",
       "      <th>2</th>\n",
       "      <td>0.762367</td>\n",
       "      <td>0.763662</td>\n",
       "      <td>-0.001</td>\n",
       "    </tr>\n",
       "    <tr>\n",
       "      <th>3</th>\n",
       "      <td>0.786036</td>\n",
       "      <td>0.784954</td>\n",
       "      <td>0.001</td>\n",
       "    </tr>\n",
       "    <tr>\n",
       "      <th>4</th>\n",
       "      <td>0.800473</td>\n",
       "      <td>0.785664</td>\n",
       "      <td>0.015</td>\n",
       "    </tr>\n",
       "    <tr>\n",
       "      <th>5</th>\n",
       "      <td>0.807574</td>\n",
       "      <td>0.787083</td>\n",
       "      <td>0.020</td>\n",
       "    </tr>\n",
       "    <tr>\n",
       "      <th>6</th>\n",
       "      <td>0.819645</td>\n",
       "      <td>0.791341</td>\n",
       "      <td>0.028</td>\n",
       "    </tr>\n",
       "    <tr>\n",
       "      <th>7</th>\n",
       "      <td>0.835030</td>\n",
       "      <td>0.788502</td>\n",
       "      <td>0.047</td>\n",
       "    </tr>\n",
       "    <tr>\n",
       "      <th>8</th>\n",
       "      <td>0.843077</td>\n",
       "      <td>0.794180</td>\n",
       "      <td>0.049</td>\n",
       "    </tr>\n",
       "    <tr>\n",
       "      <th>9</th>\n",
       "      <td>0.865325</td>\n",
       "      <td>0.789922</td>\n",
       "      <td>0.075</td>\n",
       "    </tr>\n",
       "    <tr>\n",
       "      <th>10</th>\n",
       "      <td>0.887101</td>\n",
       "      <td>0.791341</td>\n",
       "      <td>0.096</td>\n",
       "    </tr>\n",
       "  </tbody>\n",
       "</table>\n",
       "</div>"
      ],
      "text/plain": [
       "           train_accuracy  validate_accuracy  difference\n",
       "max_depth                                               \n",
       "1                0.734675           0.734564       0.000\n",
       "2                0.762367           0.763662      -0.001\n",
       "3                0.786036           0.784954       0.001\n",
       "4                0.800473           0.785664       0.015\n",
       "5                0.807574           0.787083       0.020\n",
       "6                0.819645           0.791341       0.028\n",
       "7                0.835030           0.788502       0.047\n",
       "8                0.843077           0.794180       0.049\n",
       "9                0.865325           0.789922       0.075\n",
       "10               0.887101           0.791341       0.096"
      ]
     },
     "execution_count": 45,
     "metadata": {},
     "output_type": "execute_result"
    },
    {
     "data": {
      "image/png": "[encoded data removed]",
      "text/plain": [
       "<Figure size 864x288 with 1 Axes>"
      ]
     },
     "metadata": {},
     "output_type": "display_data"
    }
   ],
   "source": [
    "metrics = []\n",
    "\n",
    "for i in range(1, 11):\n",
    "    # Make the model\n",
    "    forest = RandomForestClassifier(max_depth=i, random_state=123)\n",
    "\n",
    "    # Fit the model (on train and only train)\n",
    "    forest = forest.fit(X_train, y_train)\n",
    "\n",
    "    # Use the model\n",
    "    # We'll evaluate the model's performance on train, first\n",
    "    in_sample_accuracy = forest.score(X_train, y_train)\n",
    "    \n",
    "    out_of_sample_accuracy = forest.score(X_validate, y_validate)\n",
    "\n",
    "    output = {\n",
    "        \"max_depth\": i,\n",
    "        \"train_accuracy\": in_sample_accuracy,\n",
    "        \"validate_accuracy\": out_of_sample_accuracy\n",
    "    }\n",
    "    \n",
    "    metrics.append(output)\n",
    "    \n",
    "df = pd.DataFrame(metrics)\n",
    "\n",
    "# plot the data\n",
    "df.set_index('max_depth', inplace=True)\n",
    "df.plot(figsize = (12,4))\n",
    "plt.ylabel('Accuracy')\n",
    "plt.xticks(np.arange(0,11,1))\n",
    "plt.grid(b=True)\n",
    "plt.title('Validate Accuracy is Best and Overfitting in Minimized when max_depth = 8')\n",
    "\n",
    "df[\"difference\"] = round(df.train_accuracy - df.validate_accuracy, 3)\n",
    "df"
   ]
  },
  {
   "cell_type": "markdown",
   "id": "1706f5fa-26a1-4987-8a85-b54b91484009",
   "metadata": {},
   "source": [
    "#### Takeaways:\n",
    "- Best max depth value without crossing threshold for overfit is `8`\n",
    "    - Accuracy for this model when evaluated on train is: `0.843`\n",
    "    - Accuracy for this model when evaluated on validate is: `0.794`"
   ]
  },
  {
   "cell_type": "markdown",
   "id": "47f714e4-e49f-4be1-bb5b-6ca5dd73a61c",
   "metadata": {},
   "source": [
    "---"
   ]
  },
  {
   "cell_type": "markdown",
   "id": "e09ec8cf-7a68-4929-b470-2190d062fb40",
   "metadata": {},
   "source": [
    "### KNN"
   ]
  },
  {
   "cell_type": "markdown",
   "id": "163f6270-6a61-49d5-9db8-cc9966644e18",
   "metadata": {},
   "source": [
    "**Compare k values using for loop**"
   ]
  },
  {
   "cell_type": "code",
   "execution_count": 46,
   "id": "8de59b10-5694-4ef3-a44a-47a87397a218",
   "metadata": {},
   "outputs": [
    {
     "data": {
      "text/html": [
       "<div>\n",
       "<style scoped>\n",
       "    .dataframe tbody tr th:only-of-type {\n",
       "        vertical-align: middle;\n",
       "    }\n",
       "\n",
       "    .dataframe tbody tr th {\n",
       "        vertical-align: top;\n",
       "    }\n",
       "\n",
       "    .dataframe thead th {\n",
       "        text-align: right;\n",
       "    }\n",
       "</style>\n",
       "<table border=\"1\" class=\"dataframe\">\n",
       "  <thead>\n",
       "    <tr style=\"text-align: right;\">\n",
       "      <th></th>\n",
       "      <th>train_accuracy</th>\n",
       "      <th>validate_accuracy</th>\n",
       "      <th>difference</th>\n",
       "    </tr>\n",
       "    <tr>\n",
       "      <th>k</th>\n",
       "      <th></th>\n",
       "      <th></th>\n",
       "      <th></th>\n",
       "    </tr>\n",
       "  </thead>\n",
       "  <tbody>\n",
       "    <tr>\n",
       "      <th>1</th>\n",
       "      <td>0.998580</td>\n",
       "      <td>0.721079</td>\n",
       "      <td>0.278</td>\n",
       "    </tr>\n",
       "    <tr>\n",
       "      <th>2</th>\n",
       "      <td>0.859408</td>\n",
       "      <td>0.764372</td>\n",
       "      <td>0.095</td>\n",
       "    </tr>\n",
       "    <tr>\n",
       "      <th>3</th>\n",
       "      <td>0.859172</td>\n",
       "      <td>0.762952</td>\n",
       "      <td>0.096</td>\n",
       "    </tr>\n",
       "    <tr>\n",
       "      <th>4</th>\n",
       "      <td>0.828876</td>\n",
       "      <td>0.781405</td>\n",
       "      <td>0.047</td>\n",
       "    </tr>\n",
       "    <tr>\n",
       "      <th>5</th>\n",
       "      <td>0.826509</td>\n",
       "      <td>0.778566</td>\n",
       "      <td>0.048</td>\n",
       "    </tr>\n",
       "    <tr>\n",
       "      <th>6</th>\n",
       "      <td>0.817751</td>\n",
       "      <td>0.795600</td>\n",
       "      <td>0.022</td>\n",
       "    </tr>\n",
       "    <tr>\n",
       "      <th>7</th>\n",
       "      <td>0.817278</td>\n",
       "      <td>0.794180</td>\n",
       "      <td>0.023</td>\n",
       "    </tr>\n",
       "    <tr>\n",
       "      <th>8</th>\n",
       "      <td>0.815858</td>\n",
       "      <td>0.799858</td>\n",
       "      <td>0.016</td>\n",
       "    </tr>\n",
       "    <tr>\n",
       "      <th>9</th>\n",
       "      <td>0.814675</td>\n",
       "      <td>0.800568</td>\n",
       "      <td>0.014</td>\n",
       "    </tr>\n",
       "    <tr>\n",
       "      <th>10</th>\n",
       "      <td>0.812308</td>\n",
       "      <td>0.792051</td>\n",
       "      <td>0.020</td>\n",
       "    </tr>\n",
       "  </tbody>\n",
       "</table>\n",
       "</div>"
      ],
      "text/plain": [
       "    train_accuracy  validate_accuracy  difference\n",
       "k                                                \n",
       "1         0.998580           0.721079       0.278\n",
       "2         0.859408           0.764372       0.095\n",
       "3         0.859172           0.762952       0.096\n",
       "4         0.828876           0.781405       0.047\n",
       "5         0.826509           0.778566       0.048\n",
       "6         0.817751           0.795600       0.022\n",
       "7         0.817278           0.794180       0.023\n",
       "8         0.815858           0.799858       0.016\n",
       "9         0.814675           0.800568       0.014\n",
       "10        0.812308           0.792051       0.020"
      ]
     },
     "execution_count": 46,
     "metadata": {},
     "output_type": "execute_result"
    },
    {
     "data": {
      "image/png": "[encoded data removed]",
      "text/plain": [
       "<Figure size 864x288 with 1 Axes>"
      ]
     },
     "metadata": {},
     "output_type": "display_data"
    }
   ],
   "source": [
    "metrics = []\n",
    "\n",
    "# loop through different values of k\n",
    "for k in range(1, 11):\n",
    "            \n",
    "    # define the thing\n",
    "    knn = KNeighborsClassifier(n_neighbors=k)\n",
    "    \n",
    "    # fit the thing (remember only fit on training data)\n",
    "    knn.fit(X_train, y_train)\n",
    "    \n",
    "    # use the thing (calculate accuracy)\n",
    "    train_accuracy = knn.score(X_train, y_train)\n",
    "    validate_accuracy = knn.score(X_validate, y_validate)\n",
    "    \n",
    "    output = {\n",
    "        \"k\": k,\n",
    "        \"train_accuracy\": train_accuracy,\n",
    "        \"validate_accuracy\": validate_accuracy\n",
    "    }\n",
    "    \n",
    "    metrics.append(output)\n",
    "\n",
    "# make a dataframe\n",
    "df = pd.DataFrame(metrics)\n",
    "\n",
    "# plot the data\n",
    "df.set_index('k', inplace=True)\n",
    "df.plot(figsize = (12,4))\n",
    "plt.ylabel('Accuracy')\n",
    "plt.xticks(np.arange(0,11,1))\n",
    "plt.grid(b=True)\n",
    "plt.title('Validate Accuracy is Best and Overfitting in Minimized at k = 9')\n",
    "\n",
    "df[\"difference\"] = round(df.train_accuracy - df.validate_accuracy, 3)\n",
    "df"
   ]
  },
  {
   "cell_type": "markdown",
   "id": "f83e2b63-150e-492b-997f-f5d96e8b4f8d",
   "metadata": {},
   "source": [
    "#### Takeaways:\n",
    "- Best k value without crossing threshold for overfit is `9`\n",
    "    - Accuracy for this model when evaluated on train is: `0.815`\n",
    "    - Accuracy for this model when evaluated on validate is: `0.801`"
   ]
  },
  {
   "cell_type": "markdown",
   "id": "d65deb89-46a9-496c-93f1-c6bce0d641b8",
   "metadata": {},
   "source": [
    "---"
   ]
  },
  {
   "cell_type": "markdown",
   "id": "499c7ec6-c56a-4f0c-b0d4-fea02a93e629",
   "metadata": {},
   "source": [
    "### Logistic Regression"
   ]
  },
  {
   "cell_type": "markdown",
   "id": "ac1037f1-48c8-4c42-a678-50c077c734e3",
   "metadata": {},
   "source": [
    "**Compare C values using for loop**"
   ]
  },
  {
   "cell_type": "code",
   "execution_count": 47,
   "id": "8bdc9252-7ae6-427f-8645-0c1337887cf2",
   "metadata": {},
   "outputs": [
    {
     "data": {
      "text/html": [
       "<div>\n",
       "<style scoped>\n",
       "    .dataframe tbody tr th:only-of-type {\n",
       "        vertical-align: middle;\n",
       "    }\n",
       "\n",
       "    .dataframe tbody tr th {\n",
       "        vertical-align: top;\n",
       "    }\n",
       "\n",
       "    .dataframe thead th {\n",
       "        text-align: right;\n",
       "    }\n",
       "</style>\n",
       "<table border=\"1\" class=\"dataframe\">\n",
       "  <thead>\n",
       "    <tr style=\"text-align: right;\">\n",
       "      <th></th>\n",
       "      <th>train_accuracy</th>\n",
       "      <th>validate_accuracy</th>\n",
       "      <th>difference</th>\n",
       "    </tr>\n",
       "    <tr>\n",
       "      <th>C</th>\n",
       "      <th></th>\n",
       "      <th></th>\n",
       "      <th></th>\n",
       "    </tr>\n",
       "  </thead>\n",
       "  <tbody>\n",
       "    <tr>\n",
       "      <th>0.1</th>\n",
       "      <td>0.802367</td>\n",
       "      <td>0.794180</td>\n",
       "      <td>0.008</td>\n",
       "    </tr>\n",
       "    <tr>\n",
       "      <th>0.2</th>\n",
       "      <td>0.802130</td>\n",
       "      <td>0.794180</td>\n",
       "      <td>0.008</td>\n",
       "    </tr>\n",
       "    <tr>\n",
       "      <th>0.3</th>\n",
       "      <td>0.802367</td>\n",
       "      <td>0.797729</td>\n",
       "      <td>0.005</td>\n",
       "    </tr>\n",
       "    <tr>\n",
       "      <th>0.4</th>\n",
       "      <td>0.802367</td>\n",
       "      <td>0.798439</td>\n",
       "      <td>0.004</td>\n",
       "    </tr>\n",
       "    <tr>\n",
       "      <th>0.5</th>\n",
       "      <td>0.802367</td>\n",
       "      <td>0.797729</td>\n",
       "      <td>0.005</td>\n",
       "    </tr>\n",
       "    <tr>\n",
       "      <th>0.6</th>\n",
       "      <td>0.802367</td>\n",
       "      <td>0.797019</td>\n",
       "      <td>0.005</td>\n",
       "    </tr>\n",
       "    <tr>\n",
       "      <th>0.7</th>\n",
       "      <td>0.802367</td>\n",
       "      <td>0.797019</td>\n",
       "      <td>0.005</td>\n",
       "    </tr>\n",
       "    <tr>\n",
       "      <th>0.8</th>\n",
       "      <td>0.802130</td>\n",
       "      <td>0.797019</td>\n",
       "      <td>0.005</td>\n",
       "    </tr>\n",
       "    <tr>\n",
       "      <th>0.9</th>\n",
       "      <td>0.802130</td>\n",
       "      <td>0.797019</td>\n",
       "      <td>0.005</td>\n",
       "    </tr>\n",
       "    <tr>\n",
       "      <th>1.0</th>\n",
       "      <td>0.802130</td>\n",
       "      <td>0.797019</td>\n",
       "      <td>0.005</td>\n",
       "    </tr>\n",
       "    <tr>\n",
       "      <th>1.1</th>\n",
       "      <td>0.802130</td>\n",
       "      <td>0.797019</td>\n",
       "      <td>0.005</td>\n",
       "    </tr>\n",
       "    <tr>\n",
       "      <th>1.2</th>\n",
       "      <td>0.801893</td>\n",
       "      <td>0.797019</td>\n",
       "      <td>0.005</td>\n",
       "    </tr>\n",
       "    <tr>\n",
       "      <th>1.3</th>\n",
       "      <td>0.801893</td>\n",
       "      <td>0.797019</td>\n",
       "      <td>0.005</td>\n",
       "    </tr>\n",
       "    <tr>\n",
       "      <th>1.4</th>\n",
       "      <td>0.801893</td>\n",
       "      <td>0.797019</td>\n",
       "      <td>0.005</td>\n",
       "    </tr>\n",
       "    <tr>\n",
       "      <th>1.5</th>\n",
       "      <td>0.801893</td>\n",
       "      <td>0.797019</td>\n",
       "      <td>0.005</td>\n",
       "    </tr>\n",
       "  </tbody>\n",
       "</table>\n",
       "</div>"
      ],
      "text/plain": [
       "     train_accuracy  validate_accuracy  difference\n",
       "C                                                 \n",
       "0.1        0.802367           0.794180       0.008\n",
       "0.2        0.802130           0.794180       0.008\n",
       "0.3        0.802367           0.797729       0.005\n",
       "0.4        0.802367           0.798439       0.004\n",
       "0.5        0.802367           0.797729       0.005\n",
       "0.6        0.802367           0.797019       0.005\n",
       "0.7        0.802367           0.797019       0.005\n",
       "0.8        0.802130           0.797019       0.005\n",
       "0.9        0.802130           0.797019       0.005\n",
       "1.0        0.802130           0.797019       0.005\n",
       "1.1        0.802130           0.797019       0.005\n",
       "1.2        0.801893           0.797019       0.005\n",
       "1.3        0.801893           0.797019       0.005\n",
       "1.4        0.801893           0.797019       0.005\n",
       "1.5        0.801893           0.797019       0.005"
      ]
     },
     "execution_count": 47,
     "metadata": {},
     "output_type": "execute_result"
    },
    {
     "data": {
      "image/png": "[encoded data removed]",
      "text/plain": [
       "<Figure size 864x288 with 1 Axes>"
      ]
     },
     "metadata": {},
     "output_type": "display_data"
    }
   ],
   "source": [
    "metrics = []\n",
    "\n",
    "# loop through different values of C\n",
    "for c in np.arange(0.1, 1.6, 0.1):\n",
    "            \n",
    "    # define the thing\n",
    "    logit = LogisticRegression(C=c, random_state=123)\n",
    "    \n",
    "    # fit the thing (remember only fit on training data)\n",
    "    logit.fit(X_train, y_train)\n",
    "    \n",
    "    # use the thing (calculate accuracy)\n",
    "    train_accuracy = logit.score(X_train, y_train)\n",
    "    validate_accuracy = logit.score(X_validate, y_validate)\n",
    "    \n",
    "    output = {\n",
    "        \"C\": c,\n",
    "        \"train_accuracy\": train_accuracy,\n",
    "        \"validate_accuracy\": validate_accuracy\n",
    "    }\n",
    "    \n",
    "    metrics.append(output)\n",
    "\n",
    "# make a dataframe\n",
    "df = pd.DataFrame(metrics)\n",
    "\n",
    "# plot the data\n",
    "df.set_index('C', inplace=True)\n",
    "df.plot(figsize = (12,4))\n",
    "plt.ylabel('Accuracy')\n",
    "plt.xticks(np.arange(0, 1.6, 0.1))\n",
    "plt.grid(b=True)\n",
    "plt.title('Validate Accuracy is Best and Overfitting in Minimized at C = 0.4')\n",
    "plt.tight_layout()\n",
    "\n",
    "df[\"difference\"] = round(df.train_accuracy - df.validate_accuracy, 3)\n",
    "df"
   ]
  },
  {
   "cell_type": "markdown",
   "id": "9af22e55-c13d-458d-a76b-0f6ff1cf56c4",
   "metadata": {},
   "source": [
    "#### Takeaways:\n",
    "- Best C value without crossing threshold for overfit is `0.4`\n",
    "    - Accuracy for this model when evaluated on train is: `0.802`\n",
    "    - Accuracy for this model when evaluated on validate is: `0.798`"
   ]
  },
  {
   "cell_type": "markdown",
   "id": "2d07102e-7cca-42c0-abfa-7d0f50a0c661",
   "metadata": {},
   "source": [
    "---"
   ]
  },
  {
   "cell_type": "markdown",
   "id": "e9bbec59-c886-4bdf-b142-d8f8f6c3648e",
   "metadata": {},
   "source": [
    "### Evaluate Best Model on Test"
   ]
  },
  {
   "cell_type": "markdown",
   "id": "9701836e-6348-4766-bf67-a75ec3bfe53f",
   "metadata": {},
   "source": [
    "**KNN Model has best accuracy while minimizing overfit**"
   ]
  },
  {
   "cell_type": "code",
   "execution_count": 48,
   "id": "bc581aac-ece4-4421-9c3a-899ead6e2d60",
   "metadata": {},
   "outputs": [
    {
     "name": "stdout",
     "output_type": "stream",
     "text": [
      "The best performing classification model was the KNN model with a k value of 9.\n",
      "The train accuracy is: 0.815\n",
      "The validate accuracy is: 0.801\n",
      "The test accuracy is: 0.779\n",
      "The baseline accuracy is: 0.735\n",
      "This model outperforms the basline by: 0.044\n"
     ]
    }
   ],
   "source": [
    "knn = KNeighborsClassifier(n_neighbors=9)\n",
    "knn.fit(X_train, y_train)\n",
    "train_accuracy = knn.score(X_train, y_train)\n",
    "validate_accuracy = knn.score(X_validate, y_validate)\n",
    "test_accuracy = knn.score(X_test, y_test)\n",
    "\n",
    "print(f'The best performing classification model was the KNN model with a k value of 9.\\n\\\n",
    "The train accuracy is: {train_accuracy:.3f}\\n\\\n",
    "The validate accuracy is: {validate_accuracy:.3f}\\n\\\n",
    "The test accuracy is: {test_accuracy:.3f}\\n\\\n",
    "The baseline accuracy is: {train_encoded.churn_Yes.value_counts(normalize=True)[0]:.3f}\\n\\\n",
    "This model outperforms the basline by: {(test_accuracy - train_encoded.churn_Yes.value_counts(normalize=True)[0]):.3f}') "
   ]
  },
  {
   "cell_type": "markdown",
   "id": "add1a9e2-9c68-4bb6-8e9d-998612caff0f",
   "metadata": {},
   "source": [
    "---"
   ]
  },
  {
   "cell_type": "markdown",
   "id": "80b74fdb-7a3d-4acb-8b00-4b35fb0a5684",
   "metadata": {},
   "source": [
    "#### Create Predictions CSV file"
   ]
  },
  {
   "cell_type": "code",
   "execution_count": 49,
   "id": "1d1054bb-53f6-4126-8e2f-c95343c60785",
   "metadata": {},
   "outputs": [],
   "source": [
    "y_pred_test = knn.predict(X_test) # get predicted values for X_test\n",
    "proba_test = knn.predict_proba(X_test) # get probability of churn for X_test\n",
    "proba_df = pd.DataFrame(proba_test, columns=['proba_0', 'proba_1']) # convert to df and name columns for probabilities\n",
    "reset_test = X_test.reset_index() # reset index on X_test for concatenation\n",
    "test_proba_df = pd.concat([reset_test, proba_df], axis=1) # concat X_test with probabilities from model\n",
    "test_proba_df['predicted'] = y_pred_test # add column for predicted values from model\n",
    "test_proba_df = test_proba_df[['index', 'proba_0', 'proba_1', 'predicted']] # only keep necessary columns\n",
    "df = a.get_telco_data() # pull in original data to use to get customer_id values using original index\n",
    "id_prob_pred = test_proba_df.merge(df, left_on='index', right_index=True) # merge two dfs using original index to get customer_id column\n",
    "id_prob_pred = id_prob_pred[['customer_id', 'proba_0', 'proba_1', 'predicted']] # only keep necessary columns\n",
    "id_prob_pred.set_index('customer_id', inplace = True) # set customer_id as index to avoid extra column in .csv\n",
    "id_prob_pred.to_csv('predictions.csv') # export to .csv file in current directory"
   ]
  },
  {
   "cell_type": "markdown",
   "id": "e1c3f30c-2871-4538-9e32-6e345ee1decc",
   "metadata": {},
   "source": [
    "---"
   ]
  },
  {
   "cell_type": "markdown",
   "id": "2c76d09e-6d8d-420b-b66e-4977e8619d0c",
   "metadata": {},
   "source": [
    "## Conclusions and Next Steps"
   ]
  },
  {
   "cell_type": "markdown",
   "id": "50159c06-4b7f-41cb-9451-bddf9335fe5f",
   "metadata": {},
   "source": [
    "---"
   ]
  },
  {
   "cell_type": "markdown",
   "id": "5fdd5bca-1f28-47cf-957c-6c606c4ce60a",
   "metadata": {},
   "source": [
    "**Conclusions:**\n",
    "- I found that my KNN Classification model best predicted churn when evaluated using accuracy and defining overfit as a >5% decrease in accuracy from train to validate evaluation.\n",
    "    - 78% out-of-sample accuracy\n",
    "- This model outperformed the baseline by 4.4%, so it has value.\n",
    "**Next Steps:**\n",
    "- Some initial exploration and statistical testing revealed that engineering some new features might help my models predict with even more accuracy, and with more time, I would like to test this hypothesis.\n",
    "- Scaling numeric columns would likely improve performance for the KNN model. I would implement this with more time.\n",
    "- Because of the imbalance of classes for the target variable, sampling methods might also improve model peformance. I would implement this with more time.\n",
    "- I would explore further hyperparameter tuning with more time."
   ]
  }
 ],
 "metadata": {
  "kernelspec": {
   "display_name": "Python 3",
   "language": "python",
   "name": "python3"
  },
  "language_info": {
   "codemirror_mode": {
    "name": "ipython",
    "version": 3
   },
   "file_extension": ".py",
   "mimetype": "text/x-python",
   "name": "python",
   "nbconvert_exporter": "python",
   "pygments_lexer": "ipython3",
   "version": "3.8.8"
  }
 },
 "nbformat": 4,
 "nbformat_minor": 5
}
